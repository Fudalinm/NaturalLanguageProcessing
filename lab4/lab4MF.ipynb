{
 "cells": [
  {
   "cell_type": "code",
   "execution_count": 1,
   "metadata": {},
   "outputs": [],
   "source": [
    "from spacy.lang.pl import Polish\n",
    "from spacy.tokenizer import Tokenizer\n",
    "nlp = Polish()\n",
    "tokenizer = Tokenizer(nlp.vocab)"
   ]
  },
  {
   "cell_type": "code",
   "execution_count": 2,
   "metadata": {},
   "outputs": [],
   "source": [
    "from os import listdir\n",
    "from os.path import isfile,join\n",
    "billPath = './bills/'\n",
    "bills = [f for f in listdir(billPath) if isfile(join(billPath, f))]\n",
    "\n",
    "bills_bigrams = {}\n",
    "bills_trigrams = {}\n",
    "bills_single_grams = {}\n",
    "# bills_bigram_list = []\n",
    "\n",
    "for b in bills:\n",
    "    bPath = billPath + b\n",
    "    f = open(bPath,encoding='utf-8')\n",
    "    content = f.read()\n",
    "    content = content.lower()\n",
    "    tokens = tokenizer(content)\n",
    "    frequency = {}\n",
    "    \n",
    "    for t in range(len(tokens)-1):\n",
    "        k1 = tokens[t].text\n",
    "        k2 = tokens[t + 1].text\n",
    "        bigram = (k1,k2)\n",
    "        bills_bigrams[(k1,k2)] = bills_bigrams.get((k1,k2),0) + 1\n",
    "        bills_single_grams[k1] = bills_single_grams.get(k1,0) + 1\n",
    "    for t in range(len(tokens)-2):\n",
    "        k1 = tokens[t].text\n",
    "        k2 = tokens[t + 1].text\n",
    "        k3 = tokens[t + 2].text\n",
    "        bills_trigrams[(k1,k2,k3)] = bills_trigrams.get((k1,k2,k3),0) + 1\n",
    "        \n",
    "    k1 = tokens[len(tokens)-1]\n",
    "    bills_single_grams[k1] = bills_single_grams.get(k1,0) + 1"
   ]
  },
  {
   "cell_type": "code",
   "execution_count": 3,
   "metadata": {},
   "outputs": [
    {
     "data": {
      "text/plain": [
       "1097691"
      ]
     },
     "execution_count": 3,
     "metadata": {},
     "output_type": "execute_result"
    }
   ],
   "source": [
    "len(bills_bigrams)"
   ]
  },
  {
   "cell_type": "code",
   "execution_count": 5,
   "metadata": {},
   "outputs": [
    {
     "data": {
      "text/plain": [
       "657079"
      ]
     },
     "execution_count": 5,
     "metadata": {},
     "output_type": "execute_result"
    }
   ],
   "source": [
    "import regex as re\n",
    "to_remove = []\n",
    "\n",
    "for i in bills_bigrams:\n",
    "    t1,t2 = i\n",
    "    tmp1,tmp2 = re.search(r\"\\p{L}+\",t1),re.search(r\"\\p{L}+\",t2)\n",
    "    if tmp1 is None or tmp2 is None or len(tmp1.group(0)) != len(t1) or len(tmp2.group(0)) != len(t2) :\n",
    "        to_remove += [(t1,t2)]\n",
    "\n",
    "len(to_remove)"
   ]
  },
  {
   "cell_type": "code",
   "execution_count": 6,
   "metadata": {},
   "outputs": [
    {
     "data": {
      "text/plain": [
       "440612"
      ]
     },
     "execution_count": 6,
     "metadata": {},
     "output_type": "execute_result"
    }
   ],
   "source": [
    "for i in to_remove:\n",
    "    bills_bigrams.pop(i)\n",
    "len(bills_bigrams)"
   ]
  },
  {
   "cell_type": "code",
   "execution_count": 7,
   "metadata": {},
   "outputs": [],
   "source": [
    "from math import log\n",
    "\n",
    "bills_bigrams_with_PMI = {}\n",
    "\n",
    "for i in bills_bigrams:\n",
    "    t1, t2 = i\n",
    "    f1, f2, f12 = bills_single_grams[t1], bills_single_grams[t2], bills_bigrams[(t1,t2)]\n",
    "    bills_bigrams_with_PMI[(t1,t2)] = (f1,f2,f12,log(f12/(f1*f2)))\n",
    "    \n"
   ]
  },
  {
   "cell_type": "code",
   "execution_count": 8,
   "metadata": {},
   "outputs": [],
   "source": [
    "# Sort the word pairs according to that measure in the descending order and determine top 10 entries.\n",
    "list_PMI = []\n",
    "for i in bills_bigrams_with_PMI:\n",
    "    list_PMI.append([i,bills_bigrams_with_PMI[i][3],bills_bigrams_with_PMI[i][2]])\n",
    "list_PMI.sort(key=lambda a: -a[1])\n",
    "    "
   ]
  },
  {
   "cell_type": "code",
   "execution_count": 9,
   "metadata": {},
   "outputs": [
    {
     "data": {
      "text/plain": [
       "[[('kołowe', 'jednoosiowe'), 0.0, 1],\n",
       " [('automatyki', 'grzewczej'), 0.0, 1],\n",
       " [('prefabrykatów', 'wnętrzowe'), 0.0, 1],\n",
       " [('gołe', 'aluminiowe'), 0.0, 1],\n",
       " [('polistyrenu', 'spienionego'), 0.0, 1],\n",
       " [('objaśnieniem', 'figur'), 0.0, 1],\n",
       " [('wkładzie', 'wnoszonym'), 0.0, 1],\n",
       " [('doktorem', 'habilitowanym'), 0.0, 1],\n",
       " [('naruszonymi', 'plombami'), 0.0, 1],\n",
       " [('zaniedbanej', 'wychowawczo'), 0.0, 1]]"
      ]
     },
     "execution_count": 9,
     "metadata": {},
     "output_type": "execute_result"
    }
   ],
   "source": [
    "list_PMI[0:10]"
   ]
  },
  {
   "cell_type": "code",
   "execution_count": 10,
   "metadata": {},
   "outputs": [],
   "source": [
    "filtered_PMI = [ t for t in list_PMI if t[2] > 4]"
   ]
  },
  {
   "cell_type": "code",
   "execution_count": 11,
   "metadata": {},
   "outputs": [
    {
     "data": {
      "text/plain": [
       "[[('świeckie', 'przygotowujące'), -1.6094379124341003, 5],\n",
       " [('ręcznego', 'miotacza'), -1.6094379124341003, 5],\n",
       " [('młyny', 'kulowe'), -1.6094379124341003, 5],\n",
       " [('zaszkodzić', 'wynikom'), -1.6094379124341003, 5],\n",
       " [('grzegorz', 'schetyna'), -1.6094379124341003, 5],\n",
       " [('mleczka', 'makowego'), -1.791759469228055, 5],\n",
       " [('przeponowe', 'rurowe'), -1.791759469228055, 5],\n",
       " [('adama', 'mickiewicza'), -1.791759469228055, 6],\n",
       " [('papierem', 'wartościowym'), -1.9459101490553135, 5],\n",
       " [('chwytów', 'obezwładniających'), -1.9459101490553135, 5]]"
      ]
     },
     "execution_count": 11,
     "metadata": {},
     "output_type": "execute_result"
    }
   ],
   "source": [
    "filtered_PMI[0:10]"
   ]
  },
  {
   "cell_type": "code",
   "execution_count": 12,
   "metadata": {},
   "outputs": [],
   "source": [
    "from math import log\n",
    "import numpy as np\n",
    "\n",
    "# Data\n",
    "\n",
    "all_occurences = 0\n",
    "for i in bills_bigrams:\n",
    "    all_occurences += bills_bigrams[i]\n",
    "\n",
    "bills_bigrams_with_LLR = {}\n",
    "\n",
    "def H(args,N):\n",
    "    s = 0\n",
    "    for a in args:\n",
    "        a /= N\n",
    "        one = 1 if a == 0 else 0\n",
    "        s += a * log(a + one)\n",
    "    return s\n",
    "\n",
    "def LLR_bigram(t1,t2,N):\n",
    "    t1,t2 = i\n",
    "    N = all_occurences\n",
    "    \n",
    "    k11 = (bills_bigrams[(t1,t2)])\n",
    "    k12 = (bills_single_grams[t2] - k11)\n",
    "    k21 = (bills_single_grams[t1] - k11)\n",
    "    k22 = (all_occurences - k11 - k12 - k21)\n",
    "    \n",
    "    return 2 * N * (H([k11,k12,k21,k22],N) - H([k11+k12,k21+k22],N) - H([k11+k21,k12+k22],N))\n",
    "    \n",
    "N = all_occurences\n",
    "for i in bills_bigrams:\n",
    "    t1,t2 = i    \n",
    "#     k11 = (bills_bigrams[(t1,t2)])\n",
    "#     k12 = (bills_single_grams[t2] - k11)\n",
    "#     k21 = (bills_single_grams[t1] - k11)\n",
    "#     k22 = (all_occurences - k11 - k12 - k21)\n",
    "    \n",
    "#     LLR = 2 * N * (H([k11,k12,k21,k22],N) - H([k11+k12,k21+k22],N) - H([k11+k21,k12+k22],N))\n",
    "    \n",
    "    LLR = LLR_bigram(t1,t2,N)\n",
    "\n",
    "    bills_bigrams_with_LLR[(t1,t2)] = LLR"
   ]
  },
  {
   "cell_type": "code",
   "execution_count": 13,
   "metadata": {},
   "outputs": [
    {
     "data": {
      "text/plain": [
       "[[('mowa', 'w'), 124645.83146718914],\n",
       " [('których', 'mowa'), 97656.02403137869],\n",
       " [('o', 'których'), 68833.82784639853],\n",
       " [('którym', 'mowa'), 64283.83923316678],\n",
       " [('dodaje', 'się'), 59756.50172767568],\n",
       " [('do', 'spraw'), 50379.07917977016],\n",
       " [('o', 'którym'), 46855.915324589136],\n",
       " [('w', 'w'), 42404.08935560332],\n",
       " [('stosuje', 'się'), 40152.69589803207],\n",
       " [('minister', 'właściwy'), 39356.628900809366]]"
      ]
     },
     "execution_count": 13,
     "metadata": {},
     "output_type": "execute_result"
    }
   ],
   "source": [
    "list_LLR = []\n",
    "for i in bills_bigrams_with_LLR:\n",
    "    list_LLR.append([i,bills_bigrams_with_LLR[i]])\n",
    "list_LLR.sort(key=lambda a: -a[1])\n",
    "list_LLR[0:10]"
   ]
  },
  {
   "cell_type": "code",
   "execution_count": 15,
   "metadata": {},
   "outputs": [
    {
     "data": {
      "text/plain": [
       "1629877"
      ]
     },
     "execution_count": 15,
     "metadata": {},
     "output_type": "execute_result"
    }
   ],
   "source": [
    "import regex as re\n",
    "to_remove = []\n",
    "\n",
    "def fremove_token(t):\n",
    "    tmp = re.search(r\"\\p{L}+\",t)\n",
    "    if tmp is None or len(tmp.group(0)) != len(t):\n",
    "        return True\n",
    "    return False\n",
    "    \n",
    "for i in bills_trigrams:\n",
    "    t1,t2,t3 = i\n",
    "    if fremove_token(t1) or fremove_token(t2) or fremove_token(t3):\n",
    "        to_remove += [(t1,t2,t3)]\n",
    "\n",
    "len(to_remove)"
   ]
  },
  {
   "cell_type": "code",
   "execution_count": 16,
   "metadata": {},
   "outputs": [
    {
     "data": {
      "text/plain": [
       "2354226"
      ]
     },
     "execution_count": 16,
     "metadata": {},
     "output_type": "execute_result"
    }
   ],
   "source": [
    "len(bills_trigrams)"
   ]
  },
  {
   "cell_type": "code",
   "execution_count": 17,
   "metadata": {},
   "outputs": [
    {
     "data": {
      "text/plain": [
       "724349"
      ]
     },
     "execution_count": 17,
     "metadata": {},
     "output_type": "execute_result"
    }
   ],
   "source": [
    "for i in to_remove:\n",
    "    bills_trigrams.pop(i)\n",
    "len(bills_trigrams)"
   ]
  },
  {
   "cell_type": "code",
   "execution_count": 35,
   "metadata": {},
   "outputs": [],
   "source": [
    "bills_trigrams_with_PMI = {}\n",
    "\n",
    "for i in bills_trigrams:\n",
    "    t1, t2, t3 = i\n",
    "    f1, f2, f3, f123 = bills_single_grams[t1], bills_single_grams[t2],bills_single_grams[t3] , bills_trigrams[(t1,t2,t3)]\n",
    "    bills_trigrams_with_PMI[(t1,t2,t3)] = (f1,f2,f3,f123,log(f123/(f1*f2*f3)))\n",
    "    "
   ]
  },
  {
   "cell_type": "code",
   "execution_count": 38,
   "metadata": {},
   "outputs": [
    {
     "data": {
      "text/plain": [
       "[[('piłce', 'nożnej', 'uefa'), 9, -5.2293244950610855],\n",
       " [('profilem', 'zaufanym', 'epuap'), 8, -5.247681750579457],\n",
       " [('religijne', 'uroczystości', 'pogrzebowe'), 6, -5.288267030694535],\n",
       " [('finałowego', 'turnieju', 'mistrzostw'), 6, -5.306616169362732],\n",
       " [('potwierdzonym', 'profilem', 'zaufanym'), 11, -5.565216786180919],\n",
       " [('turnieju', 'mistrzostw', 'europy'), 6, -5.568980433830223],\n",
       " [('grożącą', 'jemu', 'samemu'), 5, -6.171282973683818],\n",
       " [('bankowemu', 'funduszowi', 'gwarancyjnemu'), 5, -6.238324625039508],\n",
       " [('komunalne', 'osady', 'ściekowe'), 5, -6.269096283706261],\n",
       " [('konfesyjne', 'nauczanie', 'religii'), 5, -6.29156913955832]]"
      ]
     },
     "execution_count": 38,
     "metadata": {},
     "output_type": "execute_result"
    }
   ],
   "source": [
    "list_trigrams_PMI = []\n",
    "for i in bills_trigrams_with_PMI:\n",
    "    list_trigrams_PMI.append([i,bills_trigrams_with_PMI[i][3],bills_trigrams_with_PMI[i][4]]) # tokens, together,\n",
    "    \n",
    "list_trigrams_PMI = [ t for t in list_trigrams_PMI if t[1] > 4]\n",
    "list_trigrams_PMI.sort(key=lambda a: -a[2])\n",
    "list_trigrams_PMI[0:10]"
   ]
  },
  {
   "cell_type": "code",
   "execution_count": 43,
   "metadata": {},
   "outputs": [],
   "source": [
    "from math import log\n",
    "import numpy as np\n",
    "\n",
    "# Data\n",
    "\n",
    "all_occurences_trigram = 0\n",
    "for i in bills_trigrams:\n",
    "    all_occurences_trigram += bills_trigrams[i]\n",
    "\n",
    "\n",
    "bills_trigrams_with_LLR = {}\n",
    "\n",
    "\n",
    "N = all_occurences_trigram\n",
    "\n",
    "for i in bills_trigrams:\n",
    "    # we treat t1t2 and t3 as singlegram\n",
    "    t1,t2,t3  = i\n",
    "    \n",
    "    k11 = (bills_trigrams[(t1,t2,t3)])\n",
    "    k12 = (bills_single_grams[t3] - k11)\n",
    "    k21 = (bills_bigrams[(t1,t2)] - k11)\n",
    "    k22 = (all_occurences_trigram - k11 - k12 - k21)\n",
    "    \n",
    "    LLR = 2 * N * (H([k11,k12,k21,k22],N) - H([k11+k12,k21+k22],N) - H([k11+k21,k12+k22],N))\n",
    "\n",
    "    bills_trigrams_with_LLR[(t1,t2,t3)] = LLR"
   ]
  },
  {
   "cell_type": "code",
   "execution_count": 45,
   "metadata": {},
   "outputs": [
    {
     "data": {
      "text/plain": [
       "[[('o', 'których', 'mowa'), 92100.04972834075],\n",
       " [('o', 'którym', 'mowa'), 62646.7332030165],\n",
       " [('których', 'mowa', 'w'), 47739.06848574327],\n",
       " [('właściwy', 'do', 'spraw'), 44653.074728556625],\n",
       " [('o', 'której', 'mowa'), 35850.49113124134],\n",
       " [('którym', 'mowa', 'w'), 32449.770015804836],\n",
       " [('ustawie', 'z', 'dnia'), 31176.668053809528],\n",
       " [('zastępuje', 'się', 'wyrazami'), 25215.325587729756],\n",
       " [('minister', 'właściwy', 'do'), 24519.717879464166],\n",
       " [('wejścia', 'w', 'życie'), 23589.36245948675]]"
      ]
     },
     "execution_count": 45,
     "metadata": {},
     "output_type": "execute_result"
    }
   ],
   "source": [
    "list_trigrams_LLR = []\n",
    "for i in bills_trigrams_with_LLR:\n",
    "    list_trigrams_LLR.append([i,bills_trigrams_with_LLR[i]])\n",
    "list_trigrams_LLR.sort(key=lambda a: -a[1])\n",
    "list_trigrams_LLR[0:10]"
   ]
  },
  {
   "attachments": {
    "table.png": {
     "image/png": "[encoded data removed]"
    }
   },
   "cell_type": "markdown",
   "metadata": {},
   "source": [
    "# Comparison table regarding 11 task\n",
    "![table.png](attachment:table.png)\n",
    "\n"
   ]
  },
  {
   "cell_type": "markdown",
   "metadata": {},
   "source": [
    "# Answer the following questions:\n",
    "    Why do we have to filter the bigrams, rather than the token sequence?\n",
    "        Consider this sequence: \"for 24 dollars\"\n",
    "        We have 3 tokens: 'for' '24' 'dollars'\n",
    "        \n",
    "        1) filtering tokens and creating bigrams: \n",
    "           'for' 'dollars'\n",
    "           bigrams found ('for', 'dollars')\n",
    "           \n",
    "        2) creating bigrams and filtering them:\n",
    "            bigrams found: ('for', '24') , ('24', 'dollars')\n",
    "            bigrams after filtering: None\n",
    "        \n",
    "        In first case the approach found bigram that does not exists\n",
    "        Second approach is correct because it haven't found any valid bigram\n",
    "    \n",
    "    Which measure (PMI, PMI with filtering, LLR) works better for the bigrams and which for the trigrams?\n",
    "        For bigrams LLR worked best - because sequence found have more occurences than almost minimal. \n",
    "        Both PMI and PMI wth filtering  found unique sequences which separatly does not appear \n",
    "        \n",
    "        There is similar situation regarding trigrams. But PMI found uniquely connected sequences like 'piłce', 'nożnej', 'uefa'\n",
    "    What types of expressions are discovered by the methods.\n",
    "        As said before \n",
    "            PMI - unique sequences that only appear together\n",
    "            LLR - most common sequences that appear togather\n",
    "            \n",
    "    Can you devise a different type of filtering that would yield better results?\n",
    "        1) Maybe merging two of these methods. \n",
    "            Taking ranks of each sequence in each method then makinmg average or weighted average to balance the finale result.\n",
    "        2) Taking PMI result but make the filter more restrictive, i mean more occurences in text."
   ]
  }
 ],
 "metadata": {
  "kernelspec": {
   "display_name": "Python 3",
   "language": "python",
   "name": "python3"
  },
  "language_info": {
   "codemirror_mode": {
    "name": "ipython",
    "version": 3
   },
   "file_extension": ".py",
   "mimetype": "text/x-python",
   "name": "python",
   "nbconvert_exporter": "python",
   "pygments_lexer": "ipython3",
   "version": "3.7.2"
  }
 },
 "nbformat": 4,
 "nbformat_minor": 4
}
