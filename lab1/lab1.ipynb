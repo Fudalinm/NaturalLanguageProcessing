{
 "cells": [
  {
   "cell_type": "code",
   "execution_count": 1,
   "metadata": {},
   "outputs": [],
   "source": [
    "# Marek Fudaliński\n",
    "# Lab1\n",
    "# PJN"
   ]
  },
  {
   "cell_type": "code",
   "execution_count": 21,
   "metadata": {},
   "outputs": [],
   "source": [
    "import regex\n",
    "from os import listdir\n",
    "from os.path import isfile, join\n",
    "import matplotlib\n",
    "import matplotlib.pyplot as plt\n",
    "import numpy as np"
   ]
  },
  {
   "cell_type": "code",
   "execution_count": 3,
   "metadata": {},
   "outputs": [
    {
     "data": {
      "text/plain": [
       "1180"
      ]
     },
     "execution_count": 3,
     "metadata": {},
     "output_type": "execute_result"
    }
   ],
   "source": [
    "billPath = './bills/'\n",
    "bills = [f for f in listdir(billPath) if isfile(join(billPath, f))]\n",
    "len(bills)"
   ]
  },
  {
   "cell_type": "code",
   "execution_count": 4,
   "metadata": {},
   "outputs": [
    {
     "data": {
      "text/plain": [
       "'1993_599.txt'"
      ]
     },
     "execution_count": 4,
     "metadata": {},
     "output_type": "execute_result"
    }
   ],
   "source": [
    "firstBill = bills[0]\n",
    "firstBill"
   ]
  },
  {
   "cell_type": "code",
   "execution_count": 5,
   "metadata": {
    "scrolled": true
   },
   "outputs": [],
   "source": [
    "# # ^.*\\b(one|two|three)\\b.*$ \n",
    "# tmp = 'skreśla\\ssię \\w+'\n",
    "# tmp = 'skreśla\\ssię\\s\\w*'\n",
    "# l = []\n",
    "# for b in bills:\n",
    "#     tmp_path = billPath+b\n",
    "#     f = open(tmp_path, \"r\",encoding='UTF-8')\n",
    "#     text = f.read()\n",
    "#     l.append(regex.findall(tmp,text))\n",
    "# print(l)"
   ]
  },
  {
   "cell_type": "code",
   "execution_count": 6,
   "metadata": {},
   "outputs": [],
   "source": [
    "#count in file\n",
    "def countInSingleBill(billPath):\n",
    "    f = open(billPath, \"r\",encoding='UTF-8')\n",
    "    text = f.read()\n",
    "    \n",
    "    #counting unit addition\n",
    "    #whit spaces\n",
    "    addition_patterns = \"dodaje\\ssię\\s(pkt|ust\\.|art|lit|tytuł|rozdział|poz|dział|tiret)\" #pkt ust. zdani(e/a) wyraz(y) | artykuł\n",
    "    addition_len = len(regex.findall(addition_patterns,text))\n",
    "    \n",
    "    #counting unit removal\n",
    "    removal_patterns = \"skreśla\\ssię\\s(ust\\.|pkt|lit|rozdział|dział|poz)\" #pkt wyrazy\n",
    "    removal_len = len(regex.findall(removal_patterns,text))\n",
    "   \n",
    "    #counting unit change\n",
    "    change_patterns = \"otrzymuje\\sbrzmienie\"\n",
    "    change_len = len(regex.findall(change_patterns,text))\n",
    "    \n",
    "    return addition_len, removal_len, change_len"
   ]
  },
  {
   "cell_type": "code",
   "execution_count": 7,
   "metadata": {},
   "outputs": [],
   "source": [
    "def countInAllBills(pathToBills,bills):\n",
    "    aLen, rLen, cLen = (0,0,0)\n",
    "    \n",
    "    for b in bills:\n",
    "        a,r,c = countInSingleBill(pathToBills+b)\n",
    "        aLen += a\n",
    "        rLen += r\n",
    "        cLen += c\n",
    "        \n",
    "    return aLen, rLen, cLen\n",
    "    "
   ]
  },
  {
   "cell_type": "code",
   "execution_count": 8,
   "metadata": {},
   "outputs": [
    {
     "data": {
      "text/plain": [
       "(5871, 836, 9587)"
      ]
     },
     "execution_count": 8,
     "metadata": {},
     "output_type": "execute_result"
    }
   ],
   "source": [
    "countInAllBills(billPath,bills)"
   ]
  },
  {
   "cell_type": "code",
   "execution_count": 19,
   "metadata": {},
   "outputs": [
    {
     "data": {
      "text/plain": [
       "{1993: [33, 4, 61],\n",
       " 1994: [93, 20, 168],\n",
       " 1995: [318, 53, 356],\n",
       " 1996: [475, 113, 891],\n",
       " 1997: [636, 170, 1061],\n",
       " 1998: [209, 55, 300],\n",
       " 1999: [163, 45, 169],\n",
       " 2000: [760, 224, 1456],\n",
       " 2001: [1049, 147, 1344],\n",
       " 2002: [91, 1, 187],\n",
       " 2003: [1018, 2, 1887],\n",
       " 2004: [1026, 2, 1707]}"
      ]
     },
     "execution_count": 19,
     "metadata": {},
     "output_type": "execute_result"
    }
   ],
   "source": [
    "# Plot results from point 1 showing how the percentage of amendments of a given type changed in the consecutive years.\n",
    "statsPerYear = {}\n",
    "\n",
    "for b in bills:\n",
    "    currentYear = int(str(b[0:4]))\n",
    "    if currentYear in statsPerYear:\n",
    "        continue\n",
    "    statsPerYear[currentYear] = [0,0,0]\n",
    "    \n",
    "for b in bills:\n",
    "    currentYear = int(str(b[0:4]))\n",
    "    ca,cr,cc = countInSingleBill(billPath + b)\n",
    "    a,r,c = statsPerYear[currentYear]\n",
    "    statsPerYear[currentYear] = [a+ca,r+cr,c+cc]\n",
    "    \n",
    "statsPerYear  "
   ]
  },
  {
   "cell_type": "code",
   "execution_count": 33,
   "metadata": {},
   "outputs": [
    {
     "data": {
      "image/png": "[encoded data removed]",
      "text/plain": [
       "<Figure size 432x288 with 1 Axes>"
      ]
     },
     "metadata": {
      "needs_background": "light"
     },
     "output_type": "display_data"
    }
   ],
   "source": [
    "labels = [k for k in statsPerYear]\n",
    "additions = [statsPerYear[k][0] for k in statsPerYear]\n",
    "removals = [statsPerYear[k][1] for k in statsPerYear]\n",
    "changes = [statsPerYear[k][2] for k in statsPerYear]\n",
    "\n",
    "x = np.arange(len(labels))  # the label locations\n",
    "width = 0.25  # the width of the bars\n",
    "\n",
    "fig, ax = plt.subplots()\n",
    "rects1 = ax.bar(x , additions, width, label='additions')\n",
    "rects2 = ax.bar(x - width, removals, width, label='removals')\n",
    "rects3 = ax.bar(x + width, changes, width, label='changes')\n",
    "\n",
    "ax.set_xticks(x)\n",
    "ax.set_xticklabels(labels)\n",
    "ax.legend()\n",
    "\n",
    "def autolabel(rects):\n",
    "    \"\"\"Attach a text label above each bar in *rects*, displaying its height.\"\"\"\n",
    "    for rect in rects:\n",
    "        height = rect.get_height()\n",
    "        ax.annotate('{}'.format(height),\n",
    "                    xy=(rect.get_x() + rect.get_width() / 2, height),\n",
    "                    xytext=(0, 3),  # 3 points vertical offset\n",
    "                    textcoords=\"offset points\",\n",
    "                    ha='center', va='bottom')\n",
    "        \n",
    "autolabel(rects1)\n",
    "autolabel(rects2)\n",
    "autolabel(rects3)\n",
    "\n",
    "\n",
    "fig.tight_layout()\n",
    "\n",
    "plt.show()\n",
    "    "
   ]
  },
  {
   "cell_type": "code",
   "execution_count": 10,
   "metadata": {},
   "outputs": [
    {
     "data": {
      "text/plain": [
       "25092"
      ]
     },
     "execution_count": 10,
     "metadata": {},
     "output_type": "execute_result"
    }
   ],
   "source": [
    "# Compute the total number of occurrences of the word ustawa in any inflectional form (ustawa, ustawie, ustawę, etc.) and all spelling forms (ustawa, Ustawa, USTAWA), excluding other words with the same prefix (e.g. ustawić).\n",
    "ustawa_regex = r\"\\b(ustaw|ustawom|ustawami|ustawach|ustawa|ustawy|ustawie|ustawę|ustawą|ustawy|ustawo)\\b\" #25092\n",
    "# ustawa_regex = r\"(ustaw|ustawom|ustawami|ustawach|ustawa|ustawy|ustawie|ustawę|ustawą|ustawy|ustawo)\\b\" #25095\n",
    "# ustawa_regex = \"ustaw(a|y|ie|ę|ą|o|om|ami|ach|\\b)\" #24974\n",
    "ustawa_counter = 0\n",
    "\n",
    "for b in bills:\n",
    "    bill = billPath + b\n",
    "    f = open(bill, \"r\",encoding='UTF-8')\n",
    "    text = f.read()\n",
    "    ustawa_counter += len(regex.findall(ustawa_regex,text,regex.IGNORECASE))\n",
    "ustawa_counter\n",
    "\n",
    "    "
   ]
  },
  {
   "cell_type": "code",
   "execution_count": 11,
   "metadata": {},
   "outputs": [
    {
     "data": {
      "text/plain": [
       "7567"
      ]
     },
     "execution_count": 11,
     "metadata": {},
     "output_type": "execute_result"
    }
   ],
   "source": [
    "# Compute the total number of occurrences of the same word (same conditions), followed by z dnia expression.\n",
    "ustawa_day_regex = r\"\\b(ustaw|ustawom|ustawami|ustawach|ustawa|ustawy|ustawie|ustawę|ustawą|ustawy|ustawo)\\b\\sz\\sdnia\"\n",
    "ustawa_day_counter = 0\n",
    "\n",
    "for b in bills:\n",
    "    bill = billPath + b\n",
    "    f = open(bill, \"r\",encoding='UTF-8')\n",
    "    text = f.read()\n",
    "    ustawa_day_counter += len(regex.findall(ustawa_day_regex,text,regex.IGNORECASE))\n",
    "ustawa_day_counter"
   ]
  },
  {
   "cell_type": "code",
   "execution_count": 12,
   "metadata": {},
   "outputs": [
    {
     "data": {
      "text/plain": [
       "7567"
      ]
     },
     "execution_count": 12,
     "metadata": {},
     "output_type": "execute_result"
    }
   ],
   "source": [
    "# As above, but not followed by z dnia expression. Is the result correct (result 4 =? result 5 + result 6)?\n",
    "ustawa_not_day_regex = r\"\\b(ustaw|ustawom|ustawami|ustawach|ustawa|ustawy|ustawie|ustawę|ustawą|ustawy|ustawo)\\b(?!\\sz\\sdnia)\"\n",
    "ustawa_not_day_counter = 0\n",
    "\n",
    "for b in bills:\n",
    "    bill = billPath + b\n",
    "    f = open(bill, \"r\",encoding='UTF-8')\n",
    "    text = f.read()\n",
    "    ustawa_not_day_counter += len(regex.findall(ustawa_not_day_regex,text,regex.IGNORECASE))\n",
    "ustawa_not_day_counter"
   ]
  },
  {
   "cell_type": "code",
   "execution_count": 13,
   "metadata": {},
   "outputs": [
    {
     "name": "stdout",
     "output_type": "stream",
     "text": [
      "25092\n",
      "25092\n"
     ]
    },
    {
     "data": {
      "text/plain": [
       "True"
      ]
     },
     "execution_count": 13,
     "metadata": {},
     "output_type": "execute_result"
    }
   ],
   "source": [
    "print(ustawa_counter)\n",
    "print(ustawa_day_counter + ustawa_not_day_counter)\n",
    "ustawa_day_counter + ustawa_not_day_counter == ustawa_counter"
   ]
  },
  {
   "cell_type": "code",
   "execution_count": 14,
   "metadata": {},
   "outputs": [
    {
     "data": {
      "text/plain": [
       "25061"
      ]
     },
     "execution_count": 14,
     "metadata": {},
     "output_type": "execute_result"
    }
   ],
   "source": [
    "ustawa_not_change_regex = r\"\\b(ustaw|ustawom|ustawami|ustawach|ustawa|ustawy|ustawie|ustawę|ustawą|ustawy|ustawo)\\b(?!\\so\\szmianie)\"\n",
    "ustawa_not_change_counter = 0\n",
    "\n",
    "for b in bills:\n",
    "    bill = billPath + b\n",
    "    f = open(bill, \"r\",encoding='UTF-8')\n",
    "    text = f.read()\n",
    "    ustawa_not_change_counter += len(regex.findall(ustawa_not_change_regex,text,regex.IGNORECASE))\n",
    "ustawa_not_change_counter\n",
    "\n"
   ]
  },
  {
   "cell_type": "code",
   "execution_count": 36,
   "metadata": {},
   "outputs": [
    {
     "data": {
      "text/plain": [
       "([<matplotlib.axis.XTick at 0x26b3c9d7080>,\n",
       "  <matplotlib.axis.XTick at 0x26b3c9d7048>,\n",
       "  <matplotlib.axis.XTick at 0x26b3c9d5c50>,\n",
       "  <matplotlib.axis.XTick at 0x26b3ca01198>],\n",
       " [Text(0, 0, '4'), Text(0, 0, '5'), Text(0, 0, '6'), Text(0, 0, '7')])"
      ]
     },
     "execution_count": 36,
     "metadata": {},
     "output_type": "execute_result"
    },
    {
     "data": {
      "image/png": "[encoded data removed]",
      "text/plain": [
       "<Figure size 432x288 with 1 Axes>"
      ]
     },
     "metadata": {
      "needs_background": "light"
     },
     "output_type": "display_data"
    }
   ],
   "source": [
    "# Plot results 4-7 using a bar chart.\n",
    "labels = [str(k) for k in range(4,8)]\n",
    "vals = [ustawa_day_counter,ustawa_day_counter,ustawa_not_day_counter,ustawa_not_change_counter]\n",
    "\n",
    "x = np.arange(4)\n",
    "fig, ax = plt.subplots()\n",
    "plt.bar(x, vals)\n",
    "plt.xticks(x,labels)\n"
   ]
  }
 ],
 "metadata": {
  "kernelspec": {
   "display_name": "Python 3",
   "language": "python",
   "name": "python3"
  },
  "language_info": {
   "codemirror_mode": {
    "name": "ipython",
    "version": 3
   },
   "file_extension": ".py",
   "mimetype": "text/x-python",
   "name": "python",
   "nbconvert_exporter": "python",
   "pygments_lexer": "ipython3",
   "version": "3.7.2"
  }
 },
 "nbformat": 4,
 "nbformat_minor": 4
}
