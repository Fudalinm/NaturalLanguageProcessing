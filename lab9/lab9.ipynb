{
 "cells": [
  {
   "cell_type": "code",
   "execution_count": 19,
   "metadata": {},
   "outputs": [
    {
     "name": "stdout",
     "output_type": "stream",
     "text": [
      "1180\n"
     ]
    }
   ],
   "source": [
    "from os import listdir\n",
    "from os.path import isfile, join\n",
    "billsPath = '../bills/'\n",
    "onlyBills = [f for f in listdir(billsPath) if isfile(join(billsPath, f))]\n",
    "print(len(onlyBills))"
   ]
  },
  {
   "cell_type": "code",
   "execution_count": 20,
   "metadata": {},
   "outputs": [
    {
     "data": {
      "text/plain": [
       "[('1993_599.txt', 59981), ('1993_602.txt', 8047), ('1993_645.txt', 729)]"
      ]
     },
     "execution_count": 20,
     "metadata": {},
     "output_type": "execute_result"
    }
   ],
   "source": [
    "from pathlib import Path\n",
    "\n",
    "billsWithSize = []\n",
    "\n",
    "for b in onlyBills:\n",
    "    billsWithSize += [(b,Path(billsPath + b).stat().st_size)]\n",
    "\n",
    "billsWithSize[:3]"
   ]
  },
  {
   "cell_type": "code",
   "execution_count": 21,
   "metadata": {},
   "outputs": [
    {
     "data": {
      "text/plain": [
       "[('2000_696.txt', 579582),\n",
       " ('1996_465.txt', 420981),\n",
       " ('2001_627.txt', 413929),\n",
       " ('1997_555.txt', 396494)]"
      ]
     },
     "execution_count": 21,
     "metadata": {},
     "output_type": "execute_result"
    }
   ],
   "source": [
    "f = lambda x: -x[1]\n",
    "billsWithSize.sort(key=f)\n",
    "billsWithSize\n",
    "top50 = billsWithSize[:50]\n",
    "top50[:4]"
   ]
  },
  {
   "cell_type": "code",
   "execution_count": 22,
   "metadata": {},
   "outputs": [
    {
     "name": "stdout",
     "output_type": "stream",
     "text": [
      "[['USTAWA'], ['Art'], ['Ministrów']]\n",
      "26310\n"
     ]
    }
   ],
   "source": [
    "def removeNonAlpha(s):\n",
    "    out = \"\"\n",
    "    for a in s:\n",
    "        if a.isalpha():\n",
    "            out += a\n",
    "    return out\n",
    "\n",
    "\n",
    "def findBigLettersSequences(sentence):\n",
    "\n",
    "    sentence = sentence.split()\n",
    "    sentence = sentence[1:]\n",
    "    \n",
    "    if len(sentence) < 1:\n",
    "        return []\n",
    "    \n",
    "    out = []\n",
    "    i = -1\n",
    "    while i + 1 < len(sentence):\n",
    "        i += 1\n",
    "        if sentence[i][0].isupper() and sentence[i][0].isalpha():\n",
    "            #Remove all non alpha from string\n",
    "            sentence[i] = removeNonAlpha(sentence[i])\n",
    "            tmp = [sentence[i]]\n",
    "            while i+1 < len(sentence):\n",
    "                i += 1\n",
    "                if sentence[i][0].isupper() and sentence[i][0].isalpha():\n",
    "                    sentence[i] = removeNonAlpha(sentence[i])\n",
    "                    #Remove all non alpha from string\n",
    "                    tmp += [sentence[i]]\n",
    "                else:\n",
    "                    break\n",
    "            out += [tmp]\n",
    "    return out\n",
    "        \n",
    "            \n",
    "sequences = []\n",
    "for b,_ in top50:\n",
    "    bPath = billsPath + b\n",
    "    f = open(bPath,encoding='utf-8')\n",
    "    content = f.read()\n",
    "    f.close()\n",
    "    \n",
    "    sentences = content.split('.')\n",
    "    \n",
    "    for s in sentences:\n",
    "        o = findBigLettersSequences(s)\n",
    "#         print(o)\n",
    "        sequences += o\n",
    "print(sequences[:3])\n",
    "print(len(sequences))"
   ]
  },
  {
   "cell_type": "code",
   "execution_count": null,
   "metadata": {
    "scrolled": true
   },
   "outputs": [],
   "source": [
    "#merge\n",
    "sequences_with_count = {}\n",
    "for s in sequences:\n",
    "    key = \"\"\n",
    "    for s2 in s:\n",
    "        key += s2 + ' '\n",
    "    key = key[:-1]\n",
    "    \n",
    "    x = sequences_with_count.get(key,0)\n",
    "    sequences_with_count[key] = x + 1\n",
    "    \n",
    "len(sequences_with_count.keys())\n",
    "sequences_with_count"
   ]
  },
  {
   "cell_type": "code",
   "execution_count": null,
   "metadata": {},
   "outputs": [],
   "source": [
    "import requests\n",
    "url = \"http://localhost:9200\"\n",
    "\n",
    "after_lematization_with_count = {}\n",
    "for s in sequences_with_count:\n",
    "    res = requests.post(url, data=s.encode('utf-8'))\n",
    "    x = after_lematization_with_count.get(res,0)\n",
    "    after_lematization_with_count[res] = x + sequences_with_count[s]   \n",
    "\n",
    "len(after_lematization_with_count)\n",
    "after_lematization_with_count"
   ]
  },
  {
   "cell_type": "code",
   "execution_count": 25,
   "metadata": {},
   "outputs": [],
   "source": [
    "after_lematization_with_count_list = []\n",
    "\n",
    "for j in after_lematization_with_count:\n",
    "    key = \"\"\n",
    "    lines = j.text.splitlines()\n",
    "    for l in lines:\n",
    "        tmp = l.split()\n",
    "        if len(tmp) != 2:\n",
    "            continue\n",
    "        key += tmp[0] + ' '\n",
    "    key = key[:-1]\n",
    "    after_lematization_with_count_list += [(key,after_lematization_with_count[j])]\n",
    "\n",
    "f = lambda x: -x[1]\n",
    "after_lematization_with_count_list.sort(key=f)\n",
    "after_lematization_with_count_list[:50]\n",
    "after_lematization_with_count = {}\n",
    "\n",
    "for k,c in after_lematization_with_count_list:\n",
    "    x = after_lematization_with_count.get(k,0)\n",
    "    after_lematization_with_count[k] = x + c\n"
   ]
  },
  {
   "cell_type": "code",
   "execution_count": 26,
   "metadata": {},
   "outputs": [
    {
     "data": {
      "text/plain": [
       "[('Nr', 3959),\n",
       " ('Art', 864),\n",
       " ('Rzeczypospolitej Polskiej', 674),\n",
       " ('Kodeksu', 398),\n",
       " ('Skarbu Państwa', 302),\n",
       " ('Prawo', 301),\n",
       " ('Policji', 299),\n",
       " ('Unii Europejskiej', 280),\n",
       " ('Dz', 233),\n",
       " ('Ministrów', 224),\n",
       " ('Państwowej Straży Pożarnej', 198),\n",
       " ('Rady Ministrów', 195),\n",
       " ('Zmiany', 186),\n",
       " ('Kasy Chorych', 181),\n",
       " ('Straży Granicznej', 164),\n",
       " ('Sprawiedliwości', 162),\n",
       " ('Rady', 159),\n",
       " ('Azot', 155),\n",
       " ('I', 144),\n",
       " ('Znak', 143),\n",
       " ('Finansów', 142),\n",
       " ('Tkaniny', 140),\n",
       " ('Funduszu', 139),\n",
       " ('Pozostałe', 133),\n",
       " ('Obrony Narodowej', 122),\n",
       " ('Rozdział', 117),\n",
       " ('II', 114),\n",
       " ('Zakładu', 112),\n",
       " ('Europejskiego Porozumienia', 105),\n",
       " ('Wolnym Handlu', 105),\n",
       " ('PO', 103),\n",
       " ('Państwowej Komisji Wyborczej', 100),\n",
       " ('Administracji', 99),\n",
       " ('Przepisy', 94),\n",
       " ('III', 94),\n",
       " ('Maszyny', 94),\n",
       " ('Damskie', 93),\n",
       " ('Europejskim Obszarze Gospodarczym', 92),\n",
       " ('New Romanserif', 91),\n",
       " ('Skarb Państwa', 87),\n",
       " ('Ordynacja', 87),\n",
       " ('Opieki Społecznej', 85),\n",
       " ('Urzędu', 83),\n",
       " ('Kodeks', 82),\n",
       " ('Biura', 79),\n",
       " ('Minister Sprawiedliwości', 77),\n",
       " ('Prezesa Urzędu', 77),\n",
       " ('Zakład', 74),\n",
       " ('Urzędu Ochrony Państwa', 74),\n",
       " ('Urząd Patentowy', 73)]"
      ]
     },
     "execution_count": 26,
     "metadata": {},
     "output_type": "execute_result"
    }
   ],
   "source": [
    "after_lematization_with_count_list[:50]"
   ]
  },
  {
   "cell_type": "code",
   "execution_count": 9,
   "metadata": {},
   "outputs": [],
   "source": [
    "top_50_text = {}\n",
    "\n",
    "for b,s in top50:\n",
    "    f = open(billsPath+b,encoding='utf-8')\n",
    "    \n",
    "    top_50_text[b] = f.read()\n",
    "    f.close()\n"
   ]
  },
  {
   "cell_type": "code",
   "execution_count": null,
   "metadata": {
    "scrolled": false
   },
   "outputs": [],
   "source": [
    "import json\n",
    "import requests\n",
    "import glob\n",
    "import os\n",
    "import time\n",
    " \n",
    "user=\"\" \n",
    "lpmn='any2txt|wcrft2|liner2({\"model\":\"n82\"})'\n",
    "url = \"http://ws.clarin-pl.eu/nlprest2/base\" \n",
    "def upload(text):\n",
    "    r = requests.post(url=url + '/startTask',\n",
    "                             json={\n",
    "                                 'text': text,\n",
    "                                 'lpmn': lpmn,\n",
    "                                 'user': user,\n",
    "                             })\n",
    "    if r.status_code == 200:\n",
    "        print('OK')\n",
    "        return r.content.decode(\"utf-8\")\n",
    "    else:\n",
    "        print(\"sentErr: \" + str(r.status_code))\n",
    "        return None\n",
    "\n",
    "def process(taskid):\n",
    "        data = requests.get(url+'/getStatus/'+taskid).json();\n",
    "        i = 0\n",
    "        while data[\"status\"] == \"QUEUE\" or data[\"status\"] == \"PROCESSING\" :\n",
    "            time.sleep(0.5);\n",
    "            data = requests.get(url+'/getStatus/'+taskid).json();\n",
    "            i += 1\n",
    "            if i == 120:\n",
    "                print('\\tW: ' + str(data))\n",
    "                i = 0\n",
    "        if data[\"status\"]==\"ERROR\":\n",
    "            print(\"Error \"+data[\"value\"])\n",
    "            return None;\n",
    "        return data[\"value\"]\n",
    "\n",
    "def main():\n",
    "    out_path= './out/'\n",
    "    tmp = {}\n",
    "    i=-1\n",
    "    for k in top_50_text:\n",
    "        i+= 1\n",
    "        if i < 18:\n",
    "            continue\n",
    "        tmp[k] = top_50_text[k]\n",
    "    \n",
    "    \n",
    "    \n",
    "    for file in tmp:\n",
    "        t = top_50_text[file]\n",
    "        file = '../bills/' + file\n",
    "        start_time = time.time()\n",
    "        fileid=upload(t)\n",
    "        print(\"Processing: {} taskid: {}\".format(file,fileid))\n",
    "        data=process(fileid)\n",
    "        if data==None:\n",
    "            continue;\n",
    "        data=data[0][\"fileID\"];\n",
    "        content = requests.get(url+'/download'+data).content.decode(\"utf-8\");\n",
    "        with open(out_path+os.path.basename(file)+'.ccl', \"w\",encoding='utf-8', errors='ignore') as outfile:\n",
    "                outfile.write(content)\n",
    "    print(\"GLOBAL %s seconds ---\" % (time.time() - global_time))\n",
    "\n",
    "main();"
   ]
  },
  {
   "cell_type": "code",
   "execution_count": null,
   "metadata": {},
   "outputs": [],
   "source": [
    "#I have run this once and this is enaugh. It was quite badly implemented bacause i was sequentialy uploding receiving then again uploding and receiving....\n",
    "# I should have uploaded all and thebn wait for all results. "
   ]
  },
  {
   "cell_type": "code",
   "execution_count": 52,
   "metadata": {},
   "outputs": [],
   "source": [
    "# https://www.datacamp.com/community/tutorials/python-xml-elementtree?utm_source=adwords_ppc&utm_campaignid=1455363063&utm_adgroupid=65083631748&utm_device=c&utm_keyword=&utm_matchtype=b&utm_network=g&utm_adpostion=&utm_creative=332602034358&utm_targetid=aud-299261629574:dsa-429603003980&utm_loc_interest_ms=&utm_loc_physical_ms=1011367&gclid=Cj0KCQiA5bz-BRD-ARIsABjT4nhi-iTj0XtnUxsGMQRSTq0OBK3DqWAur-a0u1qgx1fuRNMMwkfjz84aAi82EALw_wcB\n",
    "import xml.etree.ElementTree as ET\n",
    "\n",
    "def load_xml_for_bill(bill):\n",
    "    path = \"./out/\" + bill\n",
    "    tree = ET.parse(path)\n",
    "    root = tree.getroot()\n",
    "    return root\n",
    "\n",
    "def create_dicts_for_single_bill(root):\n",
    "    \n",
    "    bill_class_count = {} # class_CG : count \n",
    "    bill_class_NE_count = {} # class_CG : (NE : count)\n",
    "    bill_classFG_NE_count = {} # class_FG : (NE : count)\n",
    "    \n",
    "    \n",
    "    for sentence in root.findall('chunk/sentence'):\n",
    "        tmp_dict = {} # (NUM,CLASS_NAME) : W1 W2 ...\n",
    "        for token in sentence.findall('tok'):\n",
    "            word = token.find('lex').find('base').text\n",
    "            for ann in token.findall('ann'):\n",
    "                fg_class_num = ann.text\n",
    "                fg_class_name = ann.attrib['chan']\n",
    "                cg_class_name = fg_class_name.split('_')[0] + '_' + fg_class_name.split('_')[1]\n",
    "                \n",
    "                \n",
    "                tmp_dict[(fg_class_num,fg_class_name,cg_class_name)] = tmp_dict.get((fg_class_num,fg_class_name,cg_class_name),\"\") + word + \" \"\n",
    "                \n",
    "        for fg_class_num,fg_class_name,cg_class_name in tmp_dict:\n",
    "            word = tmp_dict[(fg_class_num,fg_class_name,cg_class_name)]\n",
    "            \n",
    "            bill_class_count[cg_class_name] = bill_class_count.get(cg_class_name,0) + 1\n",
    "\n",
    "            x = bill_class_NE_count.get(cg_class_name,{})\n",
    "            x[word] = x.get(word,0) + 1\n",
    "            bill_class_NE_count[cg_class_name] = x\n",
    "\n",
    "            x = bill_classFG_NE_count.get(fg_class_name,{})\n",
    "            x[word] = x.get(word,0) + 1\n",
    "            bill_classFG_NE_count[fg_class_name] = x\n",
    "                \n",
    "    return bill_class_count, bill_class_NE_count, bill_classFG_NE_count\n",
    "\n",
    "\n",
    "    "
   ]
  },
  {
   "cell_type": "code",
   "execution_count": 53,
   "metadata": {},
   "outputs": [],
   "source": [
    "top50_NER = {}\n",
    "for b,_ in top50:\n",
    "    root = load_xml_for_bill(b)\n",
    "    top50_NER[b] = create_dicts_for_single_bill(root)\n"
   ]
  },
  {
   "cell_type": "code",
   "execution_count": 54,
   "metadata": {},
   "outputs": [],
   "source": [
    "#     bill_class_count = {} # class_CG : count \n",
    "#     bill_class_NE_count = {} # class_CG : (NE : count)\n",
    "#     bill_classFG_NE_count = {} # class_FG : (NE : count)\n",
    "\n",
    "def merge_bill_class_count(d1,d2):\n",
    "    out = {}\n",
    "    for k in d1:\n",
    "        if k not in out:\n",
    "            out[k] = d1.get(k,0) + d2.get(k,0)\n",
    "    for k in d2:\n",
    "        if k not in out:\n",
    "            out[k] = d1.get(k,0) + d2.get(k,0)\n",
    "    return out\n",
    "\n",
    "# this will actualy work for both dicts \n",
    "def merge_bill_class_NE_count(d1,d2):\n",
    "    out = {}\n",
    "    \n",
    "    # getting all classes\n",
    "    cg_classes = list(d1.keys())\n",
    "    cg_classes += list(d2.keys())\n",
    "    cg_classes = set(cg_classes)\n",
    "\n",
    "    for cg in cg_classes:\n",
    "        \n",
    "        #getting all NE in class\n",
    "        NEs = list(d1.get(cg,{}).keys())\n",
    "        NEs += list(d2.get(cg,{}).keys())\n",
    "        NEs = set(NEs)\n",
    "        \n",
    "        for NE in NEs:\n",
    "            c1 = d1.get(cg,{}).get(NE,0)\n",
    "            c2 = d2.get(cg,{}).get(NE,0)\n",
    "            \n",
    "            class_dict = out.get(cg,{})\n",
    "            NE_count = class_dict.get(NE,0) + c1 + c2\n",
    "            class_dict[NE] = NE_count\n",
    "            \n",
    "            out[cg] = class_dict\n",
    "    return out\n",
    "    "
   ]
  },
  {
   "cell_type": "code",
   "execution_count": 55,
   "metadata": {},
   "outputs": [],
   "source": [
    "bill_class_count = {} # class_CG : count \n",
    "bill_class_NE_count = {} # class_CG : (NE : count)\n",
    "bill_classFG_NE_count = {} # class_FG : (NE : count)\n",
    "for b in top50_NER:\n",
    "    d1,d2,d3 = top50_NER[b]\n",
    "    bill_class_count = merge_bill_class_count(bill_class_count,d1)\n",
    "    bill_class_NE_count = merge_bill_class_NE_count(bill_class_NE_count,d2)\n",
    "    bill_classFG_NE_count = merge_bill_class_NE_count(bill_classFG_NE_count,d3)"
   ]
  },
  {
   "cell_type": "code",
   "execution_count": 56,
   "metadata": {},
   "outputs": [
    {
     "data": {
      "text/plain": [
       "{'nam_pro': 7378,\n",
       " 'nam_org': 16433,\n",
       " 'nam_loc': 2719,\n",
       " 'nam_liv': 1249,\n",
       " 'nam_eve': 108,\n",
       " 'nam_adj': 679,\n",
       " 'nam_fac': 282,\n",
       " 'nam_oth': 947,\n",
       " 'nam_num': 28}"
      ]
     },
     "execution_count": 56,
     "metadata": {},
     "output_type": "execute_result"
    }
   ],
   "source": [
    "bill_class_count"
   ]
  },
  {
   "cell_type": "code",
   "execution_count": 57,
   "metadata": {},
   "outputs": [
    {
     "data": {
      "image/png": "[encoded data removed]",
      "text/plain": [
       "<Figure size 1440x720 with 1 Axes>"
      ]
     },
     "metadata": {
      "needs_background": "light"
     },
     "output_type": "display_data"
    }
   ],
   "source": [
    "#histogram for bill_class_count\n",
    "import matplotlib.pyplot as plt\n",
    "plt.figure(figsize=(20,10))\n",
    "plt.bar(bill_class_count.keys(), bill_class_count.values(), width = 0.7, color='g')\n",
    "plt.show()\n"
   ]
  },
  {
   "cell_type": "code",
   "execution_count": 66,
   "metadata": {
    "scrolled": true
   },
   "outputs": [
    {
     "name": "stdout",
     "output_type": "stream",
     "text": [
      "nam_oth\n",
      "\tzłoty  : 339\n",
      "\teuro  : 119\n",
      "\tPESEL  : 14\n",
      "\tbat  : 12\n",
      "\tnowy_polski_złoty  : 10\n",
      "\tminister edukacja narodowy  : 8\n",
      "\t– 40 tys . .  : 8\n",
      "\tECU  : 7\n",
      "\tNIP  : 5\n",
      "\tInternet  : 5\n",
      "nam_num\n",
      "\t1  : 13\n",
      "\tprzepływ pieniężny netto z działalność inwestycyjny ( I-II ) C . przepływ środek pieniężny z działalność finansowy i . wpływ .  : 3\n",
      "\tprzepływ pieniężny netto z działalność operacyjny ( i + / - II ) bajt . przepływ środek pieniężny z działalność inwestycyjny i . wpływ .  : 2\n",
      "\trachunek przepływ pieniężny ( metoda bezpośredni ) a . przepływ środek pieniężny z działalność operacyjny i . wpływ .  : 2\n",
      "\tpozostały przychod przyszły okres oraz zastrzec X . rezerwa .  : 1\n",
      "\tinny rozliczenie międzyokresowy bajt . aktywa obrotowy i . zapas .  : 1\n",
      "\tprzepływ pieniężny netto z działalność operacyjny ( I-II ) bajt . przepływ z działalność lokacyjny i . wpływ .  : 1\n",
      "\tprawomocny orzeczenie kolegium oraz prawomocny postanowienie o umorzyć postępowanie , a także prawomocny nakaz karny móc być uchylić w wypadek wystąpienie uchybienie określony w art . kodeks postępowanie w sprawa o wykroczenie .  : 1\n",
      "\tkapitał własny po uwzględnienie proponować podział zysk ( pokrycie strata ) rachunek przepływ pieniężny ( metoda bezpośredni ) a . przepływ środek pieniężny z działalność operacyjny i . wpływ .  : 1\n",
      "\t112  : 1\n",
      "nam_pro\n",
      "\tDzieje_(Apostolskie) . u .  : 1094\n",
      "\tdziennik . u .  : 484\n",
      "\tTimes  : 205\n",
      "\tTimes Newa Roman  : 90\n",
      "\tordynacja podatkowy  : 84\n",
      "\tdziennik . URz  : 81\n",
      "\tkodeks karny  : 68\n",
      "\tmonitor Polska  : 62\n",
      "\tznak  : 58\n",
      "\tsprawa wewnętrzny  : 51\n",
      "nam_fac\n",
      "\tinspektor nadzór wewnętrzny  : 50\n",
      "\tkomendant główny  : 16\n",
      "\tstraż graniczny  : 13\n",
      "\tmangan  : 8\n",
      "\tobrona narodowy  : 6\n",
      "\tkrajowy rejestr karny  : 5\n",
      "\tzasłużony dawca przeszczep  : 4\n",
      "\tzatoka gdańska  : 4\n",
      "\tmolibden  : 4\n",
      "\tMN  : 3\n",
      "nam_eve\n",
      "\teuro  : 5\n",
      "\tmaksymalny limit pozostałość  : 4\n",
      "\tAdobe Myungjo Std M  : 2\n",
      "\tprzejściowy plan krajowy  : 2\n",
      "\tAdobe Fangsong Std R  : 2\n",
      "\tmonitor sądowy  : 2\n",
      "\ttop SECRET  : 1\n",
      "\tDejaVu Sans mono  : 1\n",
      "\tw przypadek brak odpowiedni standard krajowy może stosować . \" ; 9 ) po art . 10 skreślać się wyraz \" rozdział 2 prowadzenie księga rachunkowy \" ; 10 ) art . 11otrzymuje brzmienie : \" Art . 11 .  : 1\n",
      "\tDejaVu Sans Condensed  : 1\n",
      "nam_liv\n",
      "\tkasa chora  : 109\n",
      "\tPan  : 38\n",
      "\tstraż graniczny  : 36\n",
      "\tkrajowy depozyt  : 25\n",
      "\tsiła zbrojny  : 24\n",
      "\tArt  : 18\n",
      "\tgłówny inspektor  : 16\n",
      "\tgospodarka żywnościowy  : 16\n",
      "\tnajwyższy  : 13\n",
      "\tgłówny lekarz weterynaria  : 11\n",
      "nam_loc\n",
      "\trzeczpospolita polski  : 815\n",
      "\tRzeczpospolita Polska  : 97\n",
      "\tPolska  : 72\n",
      "\tWarszawa  : 71\n",
      "\tnawóz  : 28\n",
      "\tkonfederacja szwajcarski  : 14\n",
      "\trejestr  : 8\n",
      "\tmazowiecki  : 7\n",
      "\tLondyn  : 7\n",
      "\trad  : 6\n",
      "nam_org\n",
      "\tskarb państwo  : 406\n",
      "\tminister sprawiedliwość  : 318\n",
      "\tunia europejski  : 308\n",
      "\trada minister  : 279\n",
      "\tpaństwowy komisja wyborczy  : 268\n",
      "\tminister obrona narodowy  : 265\n",
      "\tprezes rad minister  : 262\n",
      "\tpaństwowy straż pożarny  : 257\n",
      "\tminister finanse  : 233\n",
      "\tprezes urząd  : 201\n",
      "nam_adj\n",
      "\tpolski  : 204\n",
      "\twojewódzki  : 20\n",
      "\teuropejski  : 14\n",
      "\tinternetowy  : 5\n",
      "\tmacierzyński  : 3\n",
      "\twarszawski  : 3\n",
      "\tradomszczański  : 2\n",
      "\tmławski  : 2\n",
      "\tgolubskodobrzyński  : 2\n",
      "\tkolski  : 2\n"
     ]
    }
   ],
   "source": [
    "for cg in bill_class_NE_count:\n",
    "    NE_count = bill_class_NE_count[cg]\n",
    "    NE_count_list = [(k,v) for k,v in NE_count.items()]\n",
    "    \n",
    "    NE_count_list.sort(key = lambda x: -x[1])\n",
    "    \n",
    "    print(cg)\n",
    "    for x in range(10):\n",
    "        print('\\t{} : {}'.format(NE_count_list[x][0],NE_count_list[x][1]))\n",
    "    "
   ]
  },
  {
   "cell_type": "code",
   "execution_count": 70,
   "metadata": {},
   "outputs": [
    {
     "data": {
      "text/plain": [
       "[('Dzieje_(Apostolskie) . u . ', 1094, 'nam_pro_media_periodic'),\n",
       " ('rzeczpospolita polski ', 815, 'nam_loc_gpe_country'),\n",
       " ('dziennik . u . ', 484, 'nam_pro_media_periodic'),\n",
       " ('skarb państwo ', 406, 'nam_org_institution'),\n",
       " ('złoty ', 339, 'nam_oth_currency'),\n",
       " ('minister sprawiedliwość ', 318, 'nam_org_institution'),\n",
       " ('unia europejski ', 307, 'nam_org_organization'),\n",
       " ('rada minister ', 279, 'nam_org_institution'),\n",
       " ('państwowy komisja wyborczy ', 267, 'nam_org_institution'),\n",
       " ('minister obrona narodowy ', 265, 'nam_org_institution'),\n",
       " ('prezes rad minister ', 262, 'nam_org_institution'),\n",
       " ('minister finanse ', 233, 'nam_org_institution'),\n",
       " ('państwowy straż pożarny ', 223, 'nam_org_organization'),\n",
       " ('Times ', 205, 'nam_pro_media_periodic'),\n",
       " ('polski ', 204, 'nam_adj_country'),\n",
       " ('prezes urząd ', 201, 'nam_org_institution'),\n",
       " ('urząd patentowy ', 196, 'nam_org_institution'),\n",
       " ('urząd ochrona państwo ', 176, 'nam_org_institution'),\n",
       " ('euro ', 119, 'nam_oth_currency'),\n",
       " ('sąd najwyższy ', 116, 'nam_org_institution'),\n",
       " ('EFTA ', 114, 'nam_org_organization'),\n",
       " ('kasa chora ', 109, 'nam_liv_person'),\n",
       " ('europejski porozumienie o Wolny handel ', 103, 'nam_org_company'),\n",
       " ('Rzeczpospolita Polska ', 97, 'nam_loc_gpe_country'),\n",
       " ('sejm ', 90, 'nam_org_institution'),\n",
       " ('komisja europejski ', 89, 'nam_org_institution'),\n",
       " ('Times Newa Roman ', 88, 'nam_pro_title'),\n",
       " ('prezes urząd regulacja energetyka ', 86, 'nam_org_institution'),\n",
       " ('ordynacja podatkowy ', 84, 'nam_pro_title_document'),\n",
       " ('okręgowy komisja wyborczy ', 81, 'nam_org_institution'),\n",
       " ('minister zdrowie i opieka społeczny ', 81, 'nam_org_institution'),\n",
       " ('okręg ', 81, 'nam_org_organization'),\n",
       " ('dziennik . URz ', 81, 'nam_pro_media_periodic'),\n",
       " ('minister sprawa wewnętrzny i administracja ', 75, 'nam_org_institution'),\n",
       " ('komendant główny straż graniczny ', 72, 'nam_org_institution'),\n",
       " ('Polska ', 72, 'nam_loc_gpe_country'),\n",
       " ('zakład ubezpieczenie społeczny ', 70, 'nam_org_institution'),\n",
       " ('BSWSG ', 70, 'nam_org_organization'),\n",
       " ('Warszawa ', 70, 'nam_loc_gpe_city'),\n",
       " ('kodeks karny ', 68, 'nam_pro_title_document'),\n",
       " ('komendant główny policja ', 64, 'nam_org_institution'),\n",
       " ('biuro ochrona rząd ', 64, 'nam_org_institution'),\n",
       " ('monitor Polska ', 62, 'nam_pro_title'),\n",
       " ('wspólnota europejski ', 61, 'nam_org_organization'),\n",
       " ('znak ', 58, 'nam_pro_title'),\n",
       " ('minister skarb państwo ', 56, 'nam_org_institution'),\n",
       " ('w ', 55, 'nam_org_organization'),\n",
       " ('senat ', 54, 'nam_org_institution'),\n",
       " ('główny inspektor farmaceutyczny ', 52, 'nam_org_institution'),\n",
       " ('dziennik urzędowy rzeczpospolita polski \" ', 51, 'nam_org_institution')]"
      ]
     },
     "execution_count": 70,
     "metadata": {},
     "output_type": "execute_result"
    }
   ],
   "source": [
    "fg_NE_count_list = []\n",
    "for fg in bill_classFG_NE_count:\n",
    "    NE_count = bill_classFG_NE_count[fg]\n",
    "    for NE in NE_count:\n",
    "        fg_NE_count_list.append( (NE,NE_count[NE],fg) )\n",
    "\n",
    "\n",
    "fg_NE_count_list.sort(key = lambda x: -x[1])\n",
    "fg_NE_count_list[:50]"
   ]
  },
  {
   "cell_type": "markdown",
   "metadata": {},
   "source": [
    "# Answer the following questions:\n",
    "\n",
    "### Which of the method (counting expressions with capital letters vs. NER) worked better for the task concerned with identification of the proper names?\n",
    "\n",
    "NER performed better but that does not mean that first try was meaningless. It also provided some useful data but we can see more errors in it such as 'I'.\n",
    "\n",
    "\n",
    "### What are the drawbacks of the method based on capital letters?\n",
    "\n",
    "It is not really precise. We can see lots of mistakes and we ignore beginning of the sentence and finally we split corpus by '.' but some expressions include '.' in them.\n",
    "\n",
    "\n",
    "### What are the drawbacks of the method based on NER?\n",
    "\n",
    "Sending data to the server, it requires online connections + analysis is not performed really fast. Performing it sequentially was a bad idea in my case :).\n",
    "\n",
    "\n",
    "### Which of the coarse-grained NER groups has the best and which has the worst results? Try to justify this observation.\n",
    "\n",
    "The worst were in nam_num because they were too long and not really common in whole bibliography.\n",
    "To me the best results are in nam_org, nam_loc, nam_liv maybe because i expected to see such results like organisations' names.\n",
    "\n",
    "\n",
    "### Do you think NER is sufficient for identifying different occurrences of the same entity (i.e. consider \"USA\" and \"Stany Zjednoczone\" and \"Stany Zjednoczone Ameryki Północnej\") ? If not, can you suggest an algorithm or a tool that would be able to group such names together?\n",
    "\n",
    "I think that it lacks knowledge needed to consider these names as equal. \n",
    "We can observe this in the following example:\n",
    "nam_loc:\n",
    "\trzeczpospolita polski  : 815\n",
    "\tRzeczpospolita Polska  : 97\n",
    "\tPolska  : 72\n",
    "    \n",
    "These 3 can be considered as the same but to NER they are not queal. To eliminate this problem we should create/use something like specialized synonyms dictionary.\n",
    "\n",
    "\n",
    "### Can you think of a real world problem that would benefit the most from application of Named Entity Recognition algorithm?\n",
    "\n",
    "For example in auto correction algorithms that are sometimes very frustrating especially on phones.\n"
   ]
  },
  {
   "cell_type": "code",
   "execution_count": null,
   "metadata": {},
   "outputs": [],
   "source": []
  }
 ],
 "metadata": {
  "kernelspec": {
   "display_name": "Python 3",
   "language": "python",
   "name": "python3"
  },
  "language_info": {
   "codemirror_mode": {
    "name": "ipython",
    "version": 3
   },
   "file_extension": ".py",
   "mimetype": "text/x-python",
   "name": "python",
   "nbconvert_exporter": "python",
   "pygments_lexer": "ipython3",
   "version": "3.7.2"
  }
 },
 "nbformat": 4,
 "nbformat_minor": 4
}
