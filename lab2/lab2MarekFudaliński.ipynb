{
 "cells": [
  {
   "cell_type": "code",
   "execution_count": 1,
   "metadata": {},
   "outputs": [],
   "source": [
    "#Lab2\n",
    "#Marek Fudaliński"
   ]
  },
  {
   "cell_type": "code",
   "execution_count": 2,
   "metadata": {},
   "outputs": [],
   "source": [
    "from elasticsearch import Elasticsearch"
   ]
  },
  {
   "cell_type": "code",
   "execution_count": 3,
   "metadata": {},
   "outputs": [],
   "source": [
    "es = Elasticsearch(HOST=\"http://localhost\", PORT=9200)\n",
    "es = Elasticsearch()\n",
    "index = \"my-index-000001\""
   ]
  },
  {
   "cell_type": "code",
   "execution_count": 4,
   "metadata": {
    "scrolled": true
   },
   "outputs": [
    {
     "data": {
      "text/plain": [
       "{'acknowledged': True}"
      ]
     },
     "execution_count": 4,
     "metadata": {},
     "output_type": "execute_result"
    }
   ],
   "source": [
    "es.indices.delete(index=index)"
   ]
  },
  {
   "cell_type": "code",
   "execution_count": 5,
   "metadata": {},
   "outputs": [
    {
     "data": {
      "text/plain": [
       "{'acknowledged': True, 'shards_acknowledged': True, 'index': 'my-index-000001'}"
      ]
     },
     "execution_count": 5,
     "metadata": {},
     "output_type": "execute_result"
    }
   ],
   "source": [
    "#Defin analyzer\n",
    "es.indices.create(\n",
    "    index = index,\n",
    "    body = {\n",
    "        \"settings\": {\n",
    "            \"analysis\": {\n",
    "                \"analyzer\": {\n",
    "                    \"polish\": {\n",
    "                        \"type\": \"custom\",\n",
    "                        \"tokenizer\": \"standard\",\n",
    "                        \"filter\": [\n",
    "                            \"lowercase\",\n",
    "                            \"synonym\",\n",
    "                            \"morfologik_stem\"\n",
    "                        ]\n",
    "                    }\n",
    "                },\n",
    "                \"filter\": {\n",
    "                    \"synonym\": {\n",
    "                        \"type\": \"synonym\",\n",
    "                        \"tokenizer\": \"standard\",\n",
    "                        \"synonyms\": [\n",
    "                            \"kpk, kodeks postępowania karnego\",\n",
    "                            \"kpc, kodeks postępowania cywilnego\",\n",
    "                            \"kk, kodeks karny\",\n",
    "                            \"kc, kodeks cywilny\"\n",
    "                        ]\n",
    "                    }\n",
    "                }\n",
    "            }\n",
    "        },\n",
    "        \"mappings\": {\n",
    "            \"dynamic\": \"strict\",\n",
    "            \"properties\": {\n",
    "                \"bill\": {\n",
    "                    \"type\": \"text\",\n",
    "                    \"analyzer\": \"polish\",\n",
    "                },\n",
    "                \"file_name\": {\"type\": \"text\"}\n",
    "             }\n",
    "        }\n",
    "    }\n",
    ")\n"
   ]
  },
  {
   "cell_type": "code",
   "execution_count": 6,
   "metadata": {},
   "outputs": [
    {
     "name": "stdout",
     "output_type": "stream",
     "text": [
      "1180\n"
     ]
    }
   ],
   "source": [
    "from os import listdir\n",
    "from os.path import isfile, join\n",
    "billsPath = './bills/'\n",
    "onlyBills = [f for f in listdir(billsPath) if isfile(join(billsPath, f))]\n",
    "print(len(onlyBills))"
   ]
  },
  {
   "cell_type": "code",
   "execution_count": 7,
   "metadata": {},
   "outputs": [],
   "source": [
    "for i in range(len(onlyBills)):\n",
    "    f = open(billsPath+onlyBills[i],\"r\",encoding='utf-8')\n",
    "    text = f.read()\n",
    "    body = {\"bill\":text,\"file_name\":onlyBills[i]}\n",
    "    f.close()\n",
    "    es.index(index=index, id=i, body=body)"
   ]
  },
  {
   "cell_type": "code",
   "execution_count": 8,
   "metadata": {},
   "outputs": [
    {
     "data": {
      "text/plain": [
       "{'count': 1179,\n",
       " '_shards': {'total': 1, 'successful': 1, 'skipped': 0, 'failed': 0}}"
      ]
     },
     "execution_count": 8,
     "metadata": {},
     "output_type": "execute_result"
    }
   ],
   "source": [
    "# 6. Determine the number of legislative acts containing the word ustawa (in any form)\n",
    "body = {\n",
    "    \"query\": {\n",
    "        \"match\": {\n",
    "            \"bill\":\"ustawa\"\n",
    "        }\n",
    "    }\n",
    "}\n",
    "res = es.count(index=index, body=body)\n",
    "res"
   ]
  },
  {
   "cell_type": "code",
   "execution_count": 9,
   "metadata": {},
   "outputs": [
    {
     "data": {
      "text/plain": [
       "{'count': 100,\n",
       " '_shards': {'total': 1, 'successful': 1, 'skipped': 0, 'failed': 0}}"
      ]
     },
     "execution_count": 9,
     "metadata": {},
     "output_type": "execute_result"
    }
   ],
   "source": [
    "# 7 Determine the number of legislative acts containing the words kodeks postępowania cywilnego in the specified order, but in an any inflection form.\n",
    "body = {\n",
    "    \"query\": {\n",
    "        \"match_phrase\": {\n",
    "            \"bill\": {\n",
    "                \"query\": \"kodeks postępowania cywilnego\",\n",
    "#                 \"slop\": 0\n",
    "            }\n",
    "        }\n",
    "    }\n",
    "}\n",
    "res = es.count(index=index, body=body)\n",
    "res\n"
   ]
  },
  {
   "cell_type": "code",
   "execution_count": 10,
   "metadata": {},
   "outputs": [
    {
     "data": {
      "text/plain": [
       "{'count': 1175,\n",
       " '_shards': {'total': 1, 'successful': 1, 'skipped': 0, 'failed': 0}}"
      ]
     },
     "execution_count": 10,
     "metadata": {},
     "output_type": "execute_result"
    }
   ],
   "source": [
    "# 8 Determine the number of legislative acts containing the words wchodzi w życie (in any form) allowing for up to 2 additional words in the searched phrase.\n",
    "body = {\n",
    "    \"query\": {\n",
    "        \"match_phrase\": {\n",
    "            \"bill\": {\n",
    "                \"query\": \"wchodzi w życie\",\n",
    "                \"slop\": 2\n",
    "            }\n",
    "        }\n",
    "    }\n",
    "}\n",
    "res = es.count(index=index, body=body)\n",
    "res\n"
   ]
  },
  {
   "cell_type": "code",
   "execution_count": 11,
   "metadata": {},
   "outputs": [
    {
     "name": "stdout",
     "output_type": "stream",
     "text": [
      "1. 1997_629.txt : 6.87158\n",
      "2. 2000_443.txt : 6.667763\n",
      "3. 1997_604.txt : 6.637804\n",
      "4. 1996_350.txt : 6.631998\n",
      "5. 1997_642.txt : 6.2563715\n",
      "6. 2001_23.txt : 6.0651627\n",
      "7. 1996_199.txt : 5.935479\n",
      "8. 1999_688.txt : 5.8563156\n",
      "9. 1997_681.txt : 5.473405\n",
      "10. 2001_1082.txt : 5.473405\n"
     ]
    }
   ],
   "source": [
    "#9 Determine the 10 documents that are the most relevant for the phrase konstytucja.\n",
    "body = {\n",
    "    \"size\":10,\n",
    "    \"_source\": ['file_name'],\n",
    "    \"query\": {\n",
    "        \"match\": {\n",
    "            \"bill\":\"konstytucja\"\n",
    "        },\n",
    "    }\n",
    "}\n",
    "\n",
    "res = es.search(index=index, body=body)\n",
    "res\n",
    "for i in range(len(res['hits']['hits'])):\n",
    "    print(str(i + 1) +\". \" + res['hits']['hits'][i]['_source']['file_name'] + \" : \" + str(res['hits']['hits'][i]['_score']))"
   ]
  },
  {
   "cell_type": "code",
   "execution_count": 12,
   "metadata": {},
   "outputs": [
    {
     "name": "stdout",
     "output_type": "stream",
     "text": [
      "1) 1997_629.txt\n",
      "\t1. o zmianie ustawy konstytucyjnej o trybie przygotowania\n",
      "           i uchwalenia <em>Konstytucji</em> Rzeczypospolitej\n",
      "\t2. W ustawie  konstytucyjnej z  dnia 23 kwietnia 1992 r. o trybie przygotowania i \n",
      "uchwalenia <em>Konstytucji</em>\n",
      "\t3. Do zgłoszenia projektu <em>Konstytucji</em> załącza się wykaz \n",
      "                obywateli popierających zgłoszenie\n",
      "2) 2000_443.txt\n",
      "\t1. umowy międzynarodowej i nie wypełnia przesłanek określonych w art. 89\n",
      "     ust. 1 lub art. 90 <em>Konstytucji</em>\n",
      "\t2. międzynarodowej lub załącznika nie\n",
      "     wypełnia przesłanek określonych w art. 89 ust. 1 lub art. 90 <em>Konstytucji</em>\n",
      "\t3. co do zasadności wyboru\n",
      "  trybu ratyfikacji umowy międzynarodowej, o którym mowa w art. 89 ust. 2\n",
      "  <em>Konstytucji</em>\n",
      "3) 1997_604.txt\n",
      "\t1. Jeżeli Trybunał Konstytucyjny wyda orzeczenie o sprzeczności celów partii \n",
      "   politycznej z <em>Konstytucją</em>\n",
      "\t2. Jeżeli Trybunał Konstytucyjny wyda orzeczenie o sprzeczności z <em>Konstytucją</em>\n",
      "   celów lub działalności\n",
      "\t3. Ciężar udowodnienia niezgodności z <em>Konstytucją</em> spoczywa\n",
      "                na wnioskodawcy, który w tym\n",
      "4) 1996_350.txt\n",
      "\t1. Za naruszenie <em>Konstytucji</em> lub ustawy, w związku z zajmowanym\n",
      "              stanowiskiem lub w zakresie\n",
      "\t2. W zakresie określonym w art. 107 <em>Konstytucji</em> odpowiedzialność przed\n",
      "           Trybunałem Stanu ponoszą\n",
      "\t3. Członkowie Rady Ministrów ponoszą odpowiedzialność przed Trybunałem\n",
      "           Stanu za naruszenie <em>Konstytucji</em>\n",
      "5) 1997_642.txt\n",
      "\t1. wnioskami o:\n",
      "             1) stwierdzenie zgodności ustaw i umów międzynarodowych z\n",
      "               <em>Konstytucją</em>\n",
      "\t2. stwierdzenie zgodności przepisów prawa wydawanych przez\n",
      "               centralne organy państwowe, z <em>Konstytucją</em>\n",
      "\t3. ratyfikowanymi\n",
      "               umowami międzynarodowymi i ustawami,\n",
      "             4) stwierdzenie zgodności z <em>Konstytucją</em>\n",
      "6) 2001_23.txt\n",
      "\t1. W Dzienniku Ustaw Rzeczypospolitej Polskiej, zwanym dalej \"Dziennikiem\n",
      "  Ustaw\", ogłasza się:\n",
      "   1) <em>Konstytucję</em>\n",
      "\t2. akty prawne dotyczące:\n",
      "   1) stanu wojny i zawarcia pokoju,\n",
      "   2) referendum zatwierdzającego zmianę <em>Konstytucji</em>\n",
      "\t3. ministra, któremu Sejm wyraził wotum nieufności,\n",
      "     h) powoływania lub odwoływania na określone w <em>Konstytucji</em>\n",
      "7) 1996_199.txt\n",
      "\t1. 2c i art. 9-11 ustawy konstytucyjnej z dnia 23 kwietnia \n",
      "1992 r. o trybie przygotowania i uchwalenia <em>Konstytucji</em>\n",
      "\t2. Prezydent Rzeczypospolitej Polskiej zarządza poddanie <em>Konstytucji</em> pod referendum\n",
      "   w trybie określonym\n",
      "\t3. Przyjęcie w referendum <em>Konstytucji</em> następuje wówczas, gdy opowiedziała \n",
      "   się za nią większość biorących\n",
      "8) 1999_688.txt\n",
      "\t1. postępowania w sprawie wykonywania inicjatywy\n",
      "ustawodawczej przez obywateli, o której mowa w art. 118 ust. 2 <em>Konstytucji</em>\n",
      "\t2. Projekt ustawy nie może dotyczyć spraw, dla których <em>Konstytucja</em>\n",
      "Rzeczypospolitej Polskiej zastrzega wyłączną\n",
      "\t3. Projekt ustawy wniesiony do Marszałka Sejmu powinien odpowiadać wymogom\n",
      "  zawartym w <em>Konstytucji</em> i Regulaminie\n",
      "9) 1997_681.txt\n",
      "\t1. Rzecznik Praw Dziecka, zwany dalej Rzecznikiem, stoi na straży praw dziecka\n",
      "  określonych w <em>Konstytucji</em>\n",
      "\t2. uroczyście, że przy wykonywaniu powierzonych mi obowiązków\n",
      "     Rzecznika Praw Dziecka dochowam wierności <em>Konstytucji</em>\n",
      "10) 2001_1082.txt\n",
      "\t1. Krajowa Rada Sądownictwa, zwana dalej \"Radą\", realizuje cele określone w\n",
      "  <em>Konstytucji</em> Rzeczypospolitej\n",
      "\t2. ) podejmuje uchwały w sprawach wystąpienia do Trybunału Konstytucyjnego o\n",
      "     zbadanie zgodności z <em>Konstytucją</em>\n"
     ]
    }
   ],
   "source": [
    "#10 Print the excerpts containing the word konstytucja (up to three excerpts per document) from the previous task.\n",
    "body = {\n",
    "    \"query\": {\n",
    "        \"match\": {\n",
    "            \"bill\": {\n",
    "                \"query\": \"konstytucja\"\n",
    "            }\n",
    "        }\n",
    "    },\n",
    "    \"size\": 10,\n",
    "    \"_source\": [ \"file_name\" ],\n",
    "    \"highlight\": {\n",
    "        \"number_of_fragments\": 3,\n",
    "        \"fragment_size\": 100,\n",
    "        \"fields\": {\n",
    "            \"bill\": {}\n",
    "        }\n",
    "    }\n",
    "}\n",
    "res = es.search(index=index, body=body)\n",
    "res['hits']['hits']\n",
    "for i in range(len(res['hits']['hits'])):\n",
    "    print(str(i + 1) + ') ' + res['hits']['hits'][i]['_source']['file_name'])\n",
    "    for j in range(len(res['hits']['hits'][i]['highlight']['bill'])):\n",
    "        print(\"\\t\" + str(j+1) + \". \" + res['hits']['hits'][i]['highlight']['bill'][j])"
   ]
  },
  {
   "cell_type": "code",
   "execution_count": null,
   "metadata": {},
   "outputs": [],
   "source": []
  }
 ],
 "metadata": {
  "kernelspec": {
   "display_name": "Python 3",
   "language": "python",
   "name": "python3"
  },
  "language_info": {
   "codemirror_mode": {
    "name": "ipython",
    "version": 3
   },
   "file_extension": ".py",
   "mimetype": "text/x-python",
   "name": "python",
   "nbconvert_exporter": "python",
   "pygments_lexer": "ipython3",
   "version": "3.7.2"
  }
 },
 "nbformat": 4,
 "nbformat_minor": 4
}
