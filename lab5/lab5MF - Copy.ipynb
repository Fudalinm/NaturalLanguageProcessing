{
 "cells": [
  {
   "cell_type": "code",
   "execution_count": 1,
   "metadata": {},
   "outputs": [],
   "source": [
    "from os import listdir\n",
    "from os.path import isfile,join\n",
    "import requests\n",
    "\n",
    "billPath = '../bills/'\n",
    "url = \"http://localhost:9200\"\n",
    "bills = [f for f in listdir(billPath) if isfile(join(billPath, f))]\n",
    "tags = []\n",
    "\n",
    "bigrams = {}\n",
    "singlegrams = {}\n",
    "\n",
    "counter = 0\n",
    "\n",
    "for b in bills:\n",
    "    bPath = billPath + b\n",
    "    f = open(bPath,encoding='utf-8')\n",
    "    content = f.read()\n",
    "    \n",
    "    # assuming that lower won't affect result in a bad way\n",
    "    content = content.lower()\n",
    "    res = requests.post(url, data=content.encode('utf-8'))\n",
    "    \n",
    "    lines = res.text.splitlines()\n",
    "    \n",
    "    g1 = \"\"\n",
    "    g2 = \"\"\n",
    "    \n",
    "    for i in range(len(lines)):\n",
    "        split = lines[i].split()\n",
    "        if len(split) != 3:\n",
    "            continue\n",
    "        \n",
    "        word = split[0]\n",
    "        tag = split[1].split(':')[0]\n",
    "        \n",
    "        g2 = g1\n",
    "        g1 = (word,tag)\n",
    "        \n",
    "        #siglegrams\n",
    "        x = singlegrams.get(g1,0)\n",
    "        singlegrams[g1] = x + 1\n",
    "        \n",
    "        #bigrams\n",
    "        if g2 != '':\n",
    "            x = bigrams.get((g2,g1),0)\n",
    "            bigrams[(g2,g1)] = x + 1\n",
    "        \n",
    "        #without stats\n",
    "        tags.append((word,tag))\n",
    "#     counter += 1\n",
    "#     if counter == 10:\n",
    "#         break\n",
    "        \n",
    "    \n",
    "    "
   ]
  },
  {
   "cell_type": "code",
   "execution_count": 2,
   "metadata": {},
   "outputs": [
    {
     "data": {
      "text/plain": [
       "118829"
      ]
     },
     "execution_count": 2,
     "metadata": {},
     "output_type": "execute_result"
    }
   ],
   "source": [
    "def fremove(t):\n",
    "    import regex as re\n",
    "    tmp = re.search(r\"\\p{L}+\",t)\n",
    "    if tmp is None or len(tmp.group(0)) != len(t):\n",
    "        return True\n",
    "    return False\n",
    "\n",
    "to_remove = []\n",
    "for b in bigrams:\n",
    "    g1,g2 = b\n",
    "    w1, t1 = g1\n",
    "    w2, t2 = g2\n",
    "    \n",
    "    if fremove(w1) or fremove(w2):\n",
    "        to_remove.append(b)\n",
    "\n",
    "len(to_remove)\n"
   ]
  },
  {
   "cell_type": "code",
   "execution_count": 3,
   "metadata": {},
   "outputs": [
    {
     "data": {
      "text/plain": [
       "483856"
      ]
     },
     "execution_count": 3,
     "metadata": {},
     "output_type": "execute_result"
    }
   ],
   "source": [
    "len(bigrams)"
   ]
  },
  {
   "cell_type": "code",
   "execution_count": 4,
   "metadata": {},
   "outputs": [],
   "source": [
    "for r in to_remove:\n",
    "    bigrams.pop(r)"
   ]
  },
  {
   "cell_type": "code",
   "execution_count": 5,
   "metadata": {},
   "outputs": [],
   "source": [
    "from math import log\n",
    "import numpy as np\n",
    "\n",
    "# Data\n",
    "\n",
    "all_occurences = 0\n",
    "for i in bigrams:\n",
    "    all_occurences += bigrams[i]\n",
    "\n",
    "bigrams_with_LLR = {}\n",
    "\n",
    "def H(args,N):\n",
    "    s = 0\n",
    "    for a in args:\n",
    "        a /= N\n",
    "        one = 1 if a == 0 else 0\n",
    "        s += a * log(a + one)\n",
    "    return s\n",
    "\n",
    "def LLR_bigram(t1,t2,N):\n",
    "    t1,t2 = i\n",
    "    N = all_occurences\n",
    "    \n",
    "    k11 = (bigrams[(t1,t2)])\n",
    "    k12 = (singlegrams[t2] - k11)\n",
    "    k21 = (singlegrams[t1] - k11)\n",
    "    k22 = (all_occurences - k11 - k12 - k21)\n",
    "    \n",
    "    return 2 * N * (H([k11,k12,k21,k22],N) - H([k11+k12,k21+k22],N) - H([k11+k21,k12+k22],N))\n",
    "    \n",
    "N = all_occurences\n",
    "for i in bigrams:\n",
    "    t1,t2 = i    \n",
    "    \n",
    "    LLR = LLR_bigram(t1,t2,N)\n",
    "    bigrams_with_LLR[(t1,t2)] = LLR\n",
    "    "
   ]
  },
  {
   "cell_type": "code",
   "execution_count": 6,
   "metadata": {
    "scrolled": true
   },
   "outputs": [
    {
     "data": {
      "text/plain": [
       "[[(('który', 'adj'), ('mowa', 'subst')), 248323.47813489943],\n",
       " [(('o', 'prep'), ('który', 'adj')), 163662.8380830866],\n",
       " [(('mowa', 'subst'), ('w', 'prep')), 149478.78490378824],\n",
       " [(('otrzymywać', 'fin'), ('brzmienie', 'subst')), 111105.82963924854],\n",
       " [(('minister', 'subst'), ('właściwy', 'adj')), 67763.46033475136],\n",
       " [(('w', 'prep'), ('artykuł', 'brev')), 67751.07338376575],\n",
       " [(('dodawać', 'fin'), ('się', 'qub')), 66927.24815087883],\n",
       " [(('w', 'prep'), ('ustęp', 'brev')), 56401.460472486884],\n",
       " [(('stosować', 'fin'), ('się', 'qub')), 52971.0157973974],\n",
       " [(('droga', 'subst'), ('rozporządzenie', 'subst')), 51680.8027317483]]"
      ]
     },
     "execution_count": 6,
     "metadata": {},
     "output_type": "execute_result"
    }
   ],
   "source": [
    "list_LLR = []\n",
    "for i in bigrams_with_LLR:\n",
    "    list_LLR.append([i,bigrams_with_LLR[i]])\n",
    "list_LLR.sort(key=lambda a: -a[1])\n",
    "list_LLR[0:10]"
   ]
  },
  {
   "cell_type": "code",
   "execution_count": 7,
   "metadata": {},
   "outputs": [
    {
     "data": {
      "text/plain": [
       "[[('prep', 'subst'), 327378],\n",
       " [('subst', 'subst'), 290104],\n",
       " [('subst', 'adj'), 274761],\n",
       " [('adj', 'subst'), 188238],\n",
       " [('subst', 'prep'), 173254],\n",
       " [('subst', 'conj'), 85145],\n",
       " [('conj', 'subst'), 84393],\n",
       " [('prep', 'adj'), 79459],\n",
       " [('ger', 'subst'), 77510],\n",
       " [('prep', 'brev'), 67230]]"
      ]
     },
     "execution_count": 7,
     "metadata": {},
     "output_type": "execute_result"
    }
   ],
   "source": [
    "bigram_tags = {}\n",
    "\n",
    "for i in bigrams:\n",
    "#     print(i)\n",
    "    v = bigrams[i]\n",
    "    g1,g2 = i\n",
    "    w1, t1 = g1\n",
    "    w2, t2 = g2\n",
    "    \n",
    "    x = bigram_tags.get((t1,t2),0)\n",
    "    bigram_tags[t1,t2] = x + v\n",
    "    \n",
    "list_bigram_tags = []\n",
    "for i in bigram_tags:\n",
    "#     print(i)\n",
    "    list_bigram_tags.append([i,bigram_tags[i]])\n",
    "list_bigram_tags.sort(key=lambda a: -a[1])\n",
    "top_10_tags = list_bigram_tags[0:10]\n",
    "top_10_tags"
   ]
  },
  {
   "cell_type": "code",
   "execution_count": 8,
   "metadata": {},
   "outputs": [],
   "source": [
    "top_LLR_for_tags = {}\n",
    "for i in top_10_tags:\n",
    "    t,v = i\n",
    "    tag1,tag2 = t\n",
    "    top_5 = []\n",
    "    for b in list_LLR:\n",
    "        tmp,LLR = b\n",
    "        g1,g2 = tmp\n",
    "        w1, t1 = g1\n",
    "        w2, t2 = g2\n",
    "        if t1 == tag1 and t2 == tag2:\n",
    "            top_5.append((g1,g2,LLR))\n",
    "            if len(top_5) == 5:\n",
    "                top_LLR_for_tags[t1,t2] = top_5\n",
    "                break"
   ]
  },
  {
   "cell_type": "code",
   "execution_count": 9,
   "metadata": {
    "scrolled": false
   },
   "outputs": [
    {
     "name": "stdout",
     "output_type": "stream",
     "text": [
      "('prep', 'subst')\n",
      "\t(('na', 'prep'), ('podstawa', 'subst'), 45477.310954122746)\n",
      "\t(('do', 'prep'), ('sprawa', 'subst'), 45252.30316708258)\n",
      "\t(('z', 'prep'), ('dzień', 'subst'), 43159.23405404215)\n",
      "\t(('w', 'prep'), ('droga', 'subst'), 31358.799272838856)\n",
      "\t(('od', 'prep'), ('dzień', 'subst'), 29493.159003393183)\n",
      "\n",
      "\n",
      "('subst', 'subst')\n",
      "\t(('droga', 'subst'), ('rozporządzenie', 'subst'), 51680.8027317483)\n",
      "\t(('skarb', 'subst'), ('państwo', 'subst'), 21817.45586219784)\n",
      "\t(('rada', 'subst'), ('minister', 'subst'), 14668.755602848223)\n",
      "\t(('terytorium', 'subst'), ('rzeczpospolita', 'subst'), 14126.997805359082)\n",
      "\t(('ochrona', 'subst'), ('środowisko', 'subst'), 13839.313197740266)\n",
      "\n",
      "\n",
      "('subst', 'adj')\n",
      "\t(('minister', 'subst'), ('właściwy', 'adj'), 67763.46033475136)\n",
      "\t(('rzeczpospolita', 'subst'), ('polski', 'adj'), 43011.304981795365)\n",
      "\t(('jednostka', 'subst'), ('organizacyjny', 'adj'), 23994.10394401504)\n",
      "\t(('samorząd', 'subst'), ('terytorialny', 'adj'), 23146.147887406274)\n",
      "\t(('produkt', 'subst'), ('leczniczy', 'adj'), 21293.761116537702)\n",
      "\n",
      "\n",
      "('adj', 'subst')\n",
      "\t(('który', 'adj'), ('mowa', 'subst'), 248323.47813489943)\n",
      "\t(('niniejszy', 'adj'), ('ustawa', 'subst'), 19890.750397923475)\n",
      "\t(('następujący', 'adj'), ('zmiana', 'subst'), 17163.801270255233)\n",
      "\t(('odrębny', 'adj'), ('przepis', 'subst'), 11789.581385975374)\n",
      "\t(('walny', 'adj'), ('zgromadzenie', 'subst'), 9524.82724318318)\n",
      "\n",
      "\n",
      "('subst', 'prep')\n",
      "\t(('mowa', 'subst'), ('w', 'prep'), 149478.78490378824)\n",
      "\t(('ustawa', 'subst'), ('z', 'prep'), 29189.933135300085)\n",
      "\t(('miesiąc', 'subst'), ('od', 'prep'), 10396.115574690439)\n",
      "\t(('nadzór', 'subst'), ('nad', 'prep'), 10200.166511565165)\n",
      "\t(('wniosek', 'subst'), ('o', 'prep'), 10180.634483160464)\n",
      "\n",
      "\n",
      "('subst', 'conj')\n",
      "\t(('przecinek', 'subst'), ('i', 'conj'), 3395.839739448902)\n",
      "\t(('wolność', 'subst'), ('albo', 'conj'), 2001.3272575578071)\n",
      "\t(('całość', 'subst'), ('lub', 'conj'), 1998.339269707016)\n",
      "\t(('mowa', 'subst'), ('i', 'conj'), 1748.1331156777542)\n",
      "\t(('imię', 'subst'), ('i', 'conj'), 1615.079483261235)\n",
      "\n",
      "\n",
      "('conj', 'subst')\n",
      "\t(('i', 'conj'), ('tryb', 'subst'), 3776.6026606843234)\n",
      "\t(('i', 'conj'), ('nazwisko', 'subst'), 1910.664856210525)\n",
      "\t(('i', 'conj'), ('dzień', 'subst'), 1730.1910221643052)\n",
      "\t(('i', 'conj'), ('usługa', 'subst'), 1509.4228572891373)\n",
      "\t(('i', 'conj'), ('wychowanie', 'subst'), 1335.5858098622862)\n",
      "\n",
      "\n",
      "('prep', 'adj')\n",
      "\t(('o', 'prep'), ('który', 'adj'), 163662.8380830866)\n",
      "\t(('w', 'prep'), ('właściwy', 'adj'), 1451.991323435603)\n",
      "\t(('za', 'prep'), ('każdy', 'adj'), 1264.6507442830675)\n",
      "\t(('w', 'prep'), ('ten', 'adj'), 1152.21631845512)\n",
      "\t(('przez', 'prep'), ('ten', 'adj'), 976.3903602698871)\n",
      "\n",
      "\n",
      "('ger', 'subst')\n",
      "\t(('zasięgnąć', 'ger'), ('opinia', 'subst'), 11312.312112305257)\n",
      "\t(('pozbawić', 'ger'), ('wolność', 'subst'), 11271.042820205432)\n",
      "\t(('wykonywać', 'ger'), ('zawód', 'subst'), 5478.894052403815)\n",
      "\t(('zawrzeć', 'ger'), ('umowa', 'subst'), 5123.792786335292)\n",
      "\t(('wszcząć', 'ger'), ('postępowanie', 'subst'), 5006.84612249558)\n",
      "\n",
      "\n",
      "('prep', 'brev')\n",
      "\t(('w', 'prep'), ('artykuł', 'brev'), 67751.07338376575)\n",
      "\t(('w', 'prep'), ('ustęp', 'brev'), 56401.460472486884)\n",
      "\t(('z', 'prep'), ('późniejszy', 'brev'), 7116.334465493767)\n",
      "\t(('w', 'prep'), ('numer', 'brev'), 6883.326026187229)\n",
      "\t(('w', 'prep'), ('pozycja', 'brev'), 6284.059488617238)\n",
      "\n",
      "\n"
     ]
    }
   ],
   "source": [
    "for k in top_LLR_for_tags:\n",
    "    print(k)\n",
    "    for i in top_LLR_for_tags[k]:\n",
    "        print(\"\\t\" + str(i))\n",
    "    print(\"\\n\")"
   ]
  },
  {
   "cell_type": "markdown",
   "metadata": {},
   "source": [
    "# Using the results from the previous step answer the following questions:\n",
    "    1) What types of bigrams have been found?\n",
    "    2) Which of the category-pairs indicate valuable multiword expressions? Do they have anything in common?\n",
    "    3) Which signal: LLR score or syntactic category is more useful for determining genuine multiword expressions?\n",
    "    4) Can you describe a different use-case where the morphosyntactic category is useful for resolving a real-world problem?"
   ]
  }
 ],
 "metadata": {
  "kernelspec": {
   "display_name": "Python 3",
   "language": "python",
   "name": "python3"
  },
  "language_info": {
   "codemirror_mode": {
    "name": "ipython",
    "version": 3
   },
   "file_extension": ".py",
   "mimetype": "text/x-python",
   "name": "python",
   "nbconvert_exporter": "python",
   "pygments_lexer": "ipython3",
   "version": "3.7.2"
  }
 },
 "nbformat": 4,
 "nbformat_minor": 4
}
