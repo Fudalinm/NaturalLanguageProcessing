{
 "cells": [
  {
   "cell_type": "code",
   "execution_count": 1,
   "metadata": {},
   "outputs": [],
   "source": [
    "from spacy.lang.pl import Polish\n",
    "from spacy.tokenizer import Tokenizer\n",
    "nlp = Polish()\n",
    "tokenizer = Tokenizer(nlp.vocab)"
   ]
  },
  {
   "cell_type": "code",
   "execution_count": 2,
   "metadata": {},
   "outputs": [],
   "source": [
    "from os import listdir\n",
    "from os.path import isfile,join\n",
    "billPath = './bills/'\n",
    "bills = [f for f in listdir(billPath) if isfile(join(billPath, f))]\n",
    "len(bills)\n",
    "# bills_tokens = []\n",
    "frequency_bills = []\n",
    "\n",
    "for b in bills:\n",
    "    bPath = billPath + b\n",
    "    f = open(bPath,encoding='utf-8')\n",
    "    content = f.read()\n",
    "    content = content.lower()\n",
    "    tokens = tokenizer(content)\n",
    "    frequency = {}\n",
    "    for t in tokens:\n",
    "        k = t.text\n",
    "        frequency[k] = frequency.get(k,0) + 1\n",
    "    frequency_bills.append([bPath,frequency])\n",
    "#     bills_tokens.append(tokens)\n",
    "\n",
    "# print(len(bills_tokens))"
   ]
  },
  {
   "cell_type": "code",
   "execution_count": 3,
   "metadata": {},
   "outputs": [
    {
     "data": {
      "text/plain": [
       "135516"
      ]
     },
     "execution_count": 3,
     "metadata": {},
     "output_type": "execute_result"
    }
   ],
   "source": [
    "global_frequency = {}\n",
    "\n",
    "for tmp in frequency_bills:\n",
    "    bPath,frequency = tmp[0], tmp[1]\n",
    "    for f in frequency:\n",
    "        global_frequency[f] = global_frequency.get(f,0) + frequency[f]\n",
    "\n",
    "len(global_frequency)"
   ]
  },
  {
   "cell_type": "code",
   "execution_count": 4,
   "metadata": {},
   "outputs": [
    {
     "data": {
      "text/plain": [
       "48909"
      ]
     },
     "execution_count": 4,
     "metadata": {},
     "output_type": "execute_result"
    }
   ],
   "source": [
    "#reject shorter than 2\n",
    "import regex as re\n",
    "\n",
    "to_remove = []\n",
    "\n",
    "for k in global_frequency: \n",
    "    tmp = re.search(r\"\\p{L}+\",k)\n",
    "    t = 0 if tmp is None else len(tmp.group(0))\n",
    "    if t < 2 or t != len(k):\n",
    "        to_remove.append(k)\n",
    "\n",
    "for r in to_remove:\n",
    "    global_frequency.pop(r)\n",
    "\n",
    "len(global_frequency)"
   ]
  },
  {
   "cell_type": "code",
   "execution_count": 5,
   "metadata": {},
   "outputs": [],
   "source": [
    "list_of_words = []\n",
    "for i in global_frequency:\n",
    "    list_of_words.append([i,global_frequency[i]])\n",
    "\n",
    "list_of_words.sort(key = lambda a: -a[1])\n"
   ]
  },
  {
   "cell_type": "code",
   "execution_count": 6,
   "metadata": {},
   "outputs": [
    {
     "data": {
      "text/plain": [
       "['do', 60402]"
      ]
     },
     "execution_count": 6,
     "metadata": {},
     "output_type": "execute_result"
    }
   ],
   "source": [
    "list_of_words[0]"
   ]
  },
  {
   "cell_type": "code",
   "execution_count": 7,
   "metadata": {},
   "outputs": [
    {
     "data": {
      "text/plain": [
       "48909"
      ]
     },
     "execution_count": 7,
     "metadata": {},
     "output_type": "execute_result"
    }
   ],
   "source": [
    "len(list_of_words)"
   ]
  },
  {
   "cell_type": "code",
   "execution_count": 8,
   "metadata": {},
   "outputs": [
    {
     "data": {
      "image/png": "[encoded data removed]",
      "text/plain": [
       "<Figure size 432x288 with 1 Axes>"
      ]
     },
     "metadata": {
      "needs_background": "light"
     },
     "output_type": "display_data"
    }
   ],
   "source": [
    "import matplotlib.pyplot as plt\n",
    "x = [i for i in range(1,len(list_of_words)+1)]\n",
    "y = []\n",
    "for t in list_of_words:\n",
    "    w,c = t[0],t[1]\n",
    "    y.append(c)\n",
    "\n",
    "plt.plot(x,y)\n",
    "plt.ylabel('Frequency')\n",
    "plt.xlabel('Rank')\n",
    "plt.yscale('log')\n",
    "plt.xscale('log')\n",
    "\n",
    "plt.show()"
   ]
  },
  {
   "cell_type": "code",
   "execution_count": 6,
   "metadata": {},
   "outputs": [],
   "source": [
    "#wczytać dane\n",
    "polimorfologik_path = \".\\polimorf\\polimorfologik-2.1.txt\"\n",
    "f=open(polimorfologik_path,\"r\",encoding='utf-8')\n",
    "lines=f.readlines()\n",
    "polimorfologik=[]\n",
    "for x in lines:\n",
    "    a = x.lower()\n",
    "    polimorfologik.append(a.split(';')[1])\n",
    "f.close()\n",
    "polimorfologik.sort(key= lambda a: a)\n"
   ]
  },
  {
   "cell_type": "code",
   "execution_count": 7,
   "metadata": {},
   "outputs": [
    {
     "data": {
      "text/plain": [
       "2124"
      ]
     },
     "execution_count": 7,
     "metadata": {},
     "output_type": "execute_result"
    }
   ],
   "source": [
    "# I know about bisect\n",
    "def find(L, target):\n",
    "    start = 0\n",
    "    end = len(L) - 1\n",
    "    while start <= end:\n",
    "        middle = (start + end)// 2\n",
    "        midpoint = L[middle]\n",
    "        if midpoint > target:\n",
    "            end = middle - 1\n",
    "        elif midpoint < target:\n",
    "            start = middle + 1\n",
    "        else:\n",
    "            return midpoint\n",
    "    return None\n",
    "\n",
    "not_in_dict = []\n",
    "for word in global_frequency:\n",
    "    w = find(polimorfologik,word)\n",
    "    if w is None:\n",
    "        not_in_dict.append(word)\n",
    "len(not_in_dict)"
   ]
  },
  {
   "cell_type": "code",
   "execution_count": 8,
   "metadata": {},
   "outputs": [],
   "source": [
    "not_in_dict_with_occurences = []\n",
    "\n",
    "for word in not_in_dict:\n",
    "    not_in_dict_with_occurences.append([word,global_frequency[word]])\n",
    "    \n",
    "not_in_dict_with_occurences.sort(key= lambda a: -a[1])"
   ]
  },
  {
   "cell_type": "code",
   "execution_count": 9,
   "metadata": {},
   "outputs": [
    {
     "data": {
      "text/plain": [
       "[['gmo', 192],\n",
       " ['skw', 184],\n",
       " ['sa', 182],\n",
       " ['ex', 155],\n",
       " ['iv', 148],\n",
       " ['ike', 116],\n",
       " ['vi', 87],\n",
       " ['kn', 84],\n",
       " ['cn', 77],\n",
       " ['ure', 74],\n",
       " ['uke', 74],\n",
       " ['sww', 72],\n",
       " ['vii', 64],\n",
       " ['udt', 52],\n",
       " ['phs', 52],\n",
       " ['remediacji', 51],\n",
       " ['bswsg', 42],\n",
       " ['bswp', 39],\n",
       " ['viii', 34],\n",
       " ['pkwiu', 29],\n",
       " ['ix', 27],\n",
       " ['pcn', 27],\n",
       " ['fep', 27],\n",
       " ['uokik', 26],\n",
       " ['ose', 26],\n",
       " ['doręczeń', 25],\n",
       " ['frd', 25],\n",
       " ['plk', 25],\n",
       " ['xi', 24],\n",
       " ['inulinowego', 24]]"
      ]
     },
     "execution_count": 9,
     "metadata": {},
     "output_type": "execute_result"
    }
   ],
   "source": [
    "not_in_dict_with_occurences[0:30]"
   ]
  },
  {
   "cell_type": "code",
   "execution_count": 10,
   "metadata": {},
   "outputs": [
    {
     "data": {
      "text/plain": [
       "[['wo', 5],\n",
       " ['anonimizacji', 5],\n",
       " ['rozmnożeń', 5],\n",
       " ['próbobiorców', 5],\n",
       " ['ponadzakładowym', 5],\n",
       " ['naliczeń', 5],\n",
       " ['teryto', 5],\n",
       " ['jed', 5],\n",
       " ['tów', 5],\n",
       " ['badawczorozwojowych', 5],\n",
       " ['agave', 5],\n",
       " ['odgazowywacze', 5],\n",
       " ['sanitarnoepidemiologicznych', 5],\n",
       " ['izobutyl', 5],\n",
       " ['zawart', 5],\n",
       " ['ośc', 5],\n",
       " ['ami', 5],\n",
       " ['najmnie', 5],\n",
       " ['nawodnień', 5],\n",
       " ['iib', 5],\n",
       " ['pozaaptecznego', 5],\n",
       " ['nusp', 5],\n",
       " ['poddziałań', 5],\n",
       " ['regazyfikacyjnego', 5],\n",
       " ['ui', 5],\n",
       " ['rekapitalizacyjnej', 5],\n",
       " ['ppkt', 5],\n",
       " ['dostosowań', 5],\n",
       " ['odwzorowań', 5],\n",
       " ['sposb', 5]]"
      ]
     },
     "execution_count": 10,
     "metadata": {},
     "output_type": "execute_result"
    }
   ],
   "source": [
    "not_in_dict_5 = list(filter(lambda x: (x[1] == 5),not_in_dict_with_occurences))\n",
    "not_in_dict_5 = not_in_dict_5[0:30]\n",
    "not_in_dict_5"
   ]
  },
  {
   "cell_type": "code",
   "execution_count": 11,
   "metadata": {},
   "outputs": [
    {
     "data": {
      "text/plain": [
       "46785"
      ]
     },
     "execution_count": 11,
     "metadata": {},
     "output_type": "execute_result"
    }
   ],
   "source": [
    "global_frequency_dict = {}\n",
    "for word in global_frequency:\n",
    "    i = find(polimorfologik,word)\n",
    "    if i is not None:\n",
    "        global_frequency_dict[word] = global_frequency[word]\n",
    "len(global_frequency_dict)"
   ]
  },
  {
   "cell_type": "code",
   "execution_count": 12,
   "metadata": {},
   "outputs": [
    {
     "name": "stdout",
     "output_type": "stream",
     "text": [
      "30\n"
     ]
    },
    {
     "data": {
      "text/plain": [
       "{'wo': ('do', 1),\n",
       " 'anonimizacji': ('mobilizacji', 4),\n",
       " 'rozmnożeń': ('rozmnożeniu', 3),\n",
       " 'próbobiorców': ('pracobiorcą', 4),\n",
       " 'ponadzakładowym': ('zakładowym', 5),\n",
       " 'naliczeń': ('zaliczeń', 1),\n",
       " 'teryto': ('tery', 2),\n",
       " 'jed': ('jej', 1),\n",
       " 'tów': ('rów', 1),\n",
       " 'badawczorozwojowych': ('rozwojowych', 8),\n",
       " 'agave': ('gołe', 3),\n",
       " 'odgazowywacze': ('odgruzowywanie', 4),\n",
       " 'sanitarnoepidemiologicznych': ('epidemiologicznych', 9),\n",
       " 'izobutyl': ('izolaty', 3),\n",
       " 'zawart': ('zawarta', 1),\n",
       " 'ośc': ('oś', 1),\n",
       " 'ami': ('ani', 1),\n",
       " 'najmnie': ('najmniej', 1),\n",
       " 'nawodnień': ('odwodnień', 2),\n",
       " 'iib': ('ii', 1),\n",
       " 'pozaaptecznego': ('ostatecznego', 4),\n",
       " 'nusp': ('musi', 2),\n",
       " 'poddziałań': ('działań', 3),\n",
       " 'regazyfikacyjnego': ('weryfikacyjnego', 4),\n",
       " 'ui': ('ii', 1),\n",
       " 'rekapitalizacyjnej': ('rekapitalizacji', 4),\n",
       " 'ppkt': ('pkt', 1),\n",
       " 'dostosowań': ('dostosować', 1),\n",
       " 'odwzorowań': ('otworowa', 3),\n",
       " 'sposb': ('sposób', 1)}"
      ]
     },
     "execution_count": 12,
     "metadata": {},
     "output_type": "execute_result"
    }
   ],
   "source": [
    "import enchant\n",
    "\n",
    "probable_fixes = {}\n",
    "for t in not_in_dict_5:\n",
    "    skipFlag = False\n",
    "    word, _ = t\n",
    "    distances = {}\n",
    "    for f in global_frequency_dict:\n",
    "        lev = enchant.utils.levenshtein(word, f)\n",
    "        if  lev <= 1:\n",
    "            probable_fixes[word] = (f,1)\n",
    "            skipFlag = True\n",
    "            break\n",
    "        else:\n",
    "            distances[f] = lev\n",
    "    if skipFlag:\n",
    "        continue\n",
    "    f = min(distances, key=distances.get)\n",
    "    probable_fixes[word] = (f,distances[f])\n",
    "        \n",
    "\n",
    "print(len(probable_fixes))\n",
    "probable_fixes\n"
   ]
  },
  {
   "cell_type": "code",
   "execution_count": 13,
   "metadata": {},
   "outputs": [
    {
     "data": {
      "text/plain": [
       "4811854"
      ]
     },
     "execution_count": 13,
     "metadata": {},
     "output_type": "execute_result"
    }
   ],
   "source": [
    "len(polimorfologik)"
   ]
  },
  {
   "cell_type": "code",
   "execution_count": 18,
   "metadata": {},
   "outputs": [
    {
     "data": {
      "text/plain": [
       "{'acknowledged': True}"
      ]
     },
     "execution_count": 18,
     "metadata": {},
     "output_type": "execute_result"
    }
   ],
   "source": [
    "# es.indices.delete(index=index)"
   ]
  },
  {
   "cell_type": "code",
   "execution_count": 19,
   "metadata": {},
   "outputs": [
    {
     "data": {
      "text/plain": [
       "(4811854, [])"
      ]
     },
     "execution_count": 19,
     "metadata": {},
     "output_type": "execute_result"
    }
   ],
   "source": [
    "from elasticsearch import Elasticsearch, helpers\n",
    "es = Elasticsearch(HOST=\"http://localhost\", PORT=9200)\n",
    "es = Elasticsearch()\n",
    "index = \"my-index-000001\"\n",
    "es.indices.create(\n",
    "    index = index,\n",
    "    body = {\n",
    "        \"settings\": {\n",
    "            \"analysis\": {\n",
    "                \"analyzer\": {\n",
    "                    \"polish\": {\n",
    "                        \"type\": \"custom\",\n",
    "                        \"tokenizer\": \"keyword\"\n",
    "                    }\n",
    "                }\n",
    "            }\n",
    "        },\n",
    "        \"mappings\": {\n",
    "            \"dynamic\": \"strict\",\n",
    "            \"properties\": {\n",
    "                \"word\": {\n",
    "                    \"type\": \"text\",\n",
    "                    \"analyzer\": \"polish\",\n",
    "                },\n",
    "             }\n",
    "        }\n",
    "    }\n",
    ")\n",
    "whole_queries = []\n",
    "i = 0\n",
    "for x in polimorfologik:\n",
    "    i = i + 1\n",
    "    body = {\n",
    "        \"_index\": index,\n",
    "        \"_id\": i,\n",
    "        \"_source\": {\n",
    "            \"word\": x\n",
    "        }\n",
    "    }\n",
    "    whole_queries.append(body)\n",
    "helpers.bulk(es, whole_queries)"
   ]
  },
  {
   "cell_type": "code",
   "execution_count": 22,
   "metadata": {},
   "outputs": [
    {
     "data": {
      "text/plain": [
       "{'took': 2,\n",
       " 'timed_out': False,\n",
       " '_shards': {'total': 1, 'successful': 1, 'skipped': 0, 'failed': 0},\n",
       " 'hits': {'total': {'value': 2, 'relation': 'eq'},\n",
       "  'max_score': 11.5762415,\n",
       "  'hits': [{'_index': 'my-index-000001',\n",
       "    '_type': '_doc',\n",
       "    '_id': '3706732',\n",
       "    '_score': 11.5762415,\n",
       "    '_source': {'word': 'sposób'}},\n",
       "   {'_index': 'my-index-000001',\n",
       "    '_type': '_doc',\n",
       "    '_id': '3706733',\n",
       "    '_score': 11.5762415,\n",
       "    '_source': {'word': 'sposób'}}]}}"
      ]
     },
     "execution_count": 22,
     "metadata": {},
     "output_type": "execute_result"
    }
   ],
   "source": [
    "probable_fixes = {}\n",
    "for t in not_in_dict_5:\n",
    "    word, _ = t\n",
    "    body = {\n",
    "        \"size\":2,\n",
    "        \"_source\": ['word'],\n",
    "        \"query\": {\n",
    "            \"fuzzy\": {\n",
    "                \"word\":word\n",
    "            },\n",
    "        }\n",
    "    }\n",
    "    res = es.search(index=index, body=body)\n",
    "    probable_fixes[word] = res\n",
    "res"
   ]
  },
  {
   "cell_type": "code",
   "execution_count": 37,
   "metadata": {},
   "outputs": [
    {
     "name": "stdout",
     "output_type": "stream",
     "text": [
      "wo\t = \tBRAK_WYNIKÓW\n",
      "anonimizacji\t = \t1)animizacji\n",
      "rozmnożeń\t = \t1)rozmnoże \t2)rozmnażań\n",
      "próbobiorców\t = \t1)pracobiorców \t2)prądobiorców\n",
      "ponadzakładowym\t = \t1)pozazakładowym\n",
      "naliczeń\t = \t1)naliczek \t2)naliczek\n",
      "teryto\t = \t1)teryno \t2)merytom\n",
      "jed\t = \t1)led \t2)led\n",
      "tów\t = \t1)mów \t2)mów\n",
      "badawczorozwojowych\t = \tBRAK_WYNIKÓW\n",
      "agave\t = \t1)agape\n",
      "odgazowywacze\t = \t1)odgazowywanie \t2)odparowywacze\n",
      "sanitarnoepidemiologicznych\t = \tBRAK_WYNIKÓW\n",
      "izobutyl\t = \t1)izobutan \t2)izobuten\n",
      "zawart\t = \t1)zapart \t2)zawarta\n",
      "ośc\t = \t1)odc \t2)ośca\n",
      "ami\t = \t1)agi \t2)agi\n",
      "najmnie\t = \t1)najemnie \t2)najmanie\n",
      "nawodnień\t = \t1)zawodnień \t2)napomnień\n",
      "iib\t = \t1)aib \t2)gib\n",
      "pozaaptecznego\t = \tBRAK_WYNIKÓW\n",
      "nusp\t = \t1)nasp\n",
      "poddziałań\t = \t1)poddziałach \t2)poddziałami\n",
      "regazyfikacyjnego\t = \t1)niegazyfikacyjnego \t2)denazyfikacyjnego\n",
      "ui\t = \tBRAK_WYNIKÓW\n",
      "rekapitalizacyjnej\t = \t1)niekapitalizacyjnej \t2)kapitalizacyjnej\n",
      "ppkt\t = \t1)pakt \t2)pkt\n",
      "dostosowań\t = \t1)dostosować \t2)dostosował\n",
      "odwzorowań\t = \t1)odwzorować \t2)odwzorował\n",
      "sposb\t = \t1)sposób \t2)sposób\n"
     ]
    }
   ],
   "source": [
    "probable_fixes\n",
    "i = 0\n",
    "for w in probable_fixes:\n",
    "    i += 1\n",
    "    if len(probable_fixes[w]['hits']['hits']) == 0:\n",
    "        print(str(w) + '\\t = \\tBRAK_WYNIKÓW' )\n",
    "    elif len(probable_fixes[w]['hits']['hits']) == 1:\n",
    "        print(str(w) + '\\t = \\t1)' + str(probable_fixes[w]['hits']['hits'][0]['_source']['word']))\n",
    "    elif len(probable_fixes[w]['hits']['hits']) > 1:\n",
    "        print(str(w) + '\\t = \\t1)' + str(probable_fixes[w]['hits']['hits'][0]['_source']['word']) + \n",
    "                         ' \\t2)'+ str(probable_fixes[w]['hits']['hits'][1]['_source']['word']))"
   ]
  },
  {
   "cell_type": "raw",
   "metadata": {},
   "source": [
    "Compare the results. Draw conclusions regarding:\n",
    "    1) the distribution of words in the corpus,\n",
    "        Elastic search does not consider word frequency\n",
    "        \n",
    "    2) the number of true misspellings vs. the number of unknown words,\n",
    "        In my opinion there are 8 unknown words and the rest of it is misspelings.\n",
    "        Unknown:\n",
    "            - anonimizacji (which btw exists in sjp dict, just wanted to check there as well)\n",
    "            - próbobiorców\n",
    "            - ponadzakładowym\n",
    "            - naliczeń (also exists in sjp, form of naliczyć)\n",
    "            - teryto - this is unknown word but due to missclick i gues that it would be terytorialncyh or something similar if\n",
    "                        not the space\n",
    "            - agave\n",
    "            - odgazowywacze\n",
    "            - izobutyl\n",
    "            - pozaaptecznego (this exist in sjp but in morfologik not)\n",
    "            - poddziałań\n",
    "            - nawodnień (this exist in sjp but in morfologik not)\n",
    "            - rekapitalizacyjnej\n",
    "        The rest of it i would consider as misspelings\n",
    "    \n",
    "    \n",
    "    3) The performance of your method compared to ElasitcSearch,\n",
    "        We can split this in two sections:\n",
    "        a) Start up is much slower for elasticsearch. By start up i mean loading whole dictionary to elastic search take much \n",
    "            time (around 15 minutes). \n",
    "        b) On the ther hand after loading the dictionary we can see that result are prduced much faster than in Levenshtein \n",
    "            method.\n",
    "    \n",
    "    \n",
    "    4) The results provided by your method compared to ElasticSearch,\n",
    "        a) naliczeń\n",
    "            Levenshtein - zaliczeń\n",
    "            elasticsearch - naliczek\n",
    "            \n",
    "            in my opinion zaliczeń is more probable because it is more popular word to use. But on this difference it is hard \n",
    "            to judge which method gave better result.\n",
    "            \n",
    "        b) regazyfikacyjnego\n",
    "            Levenshtein - weryfikacyjnego - \n",
    "            elasticseach - niegazyfikacyjnego\n",
    "            \n",
    "            better result is produced by elasticsearch because the part 'gazyfikacja' is base for both word niegazyfikacyjnego \n",
    "            and word (but not in dict) regazyfikacyjnego. But weryfikacyjnego is completely different word family.\n",
    "            \n",
    "        c) najmnie\n",
    "            Levenshtein - najmniej\n",
    "            elasticsearch - najemnie\n",
    "            \n",
    "            najmniej seems more probable to me.\\\n",
    "            \n",
    "        d) zawart \n",
    "            Levenshtein - zawarta\n",
    "            elastisearch - zapart \n",
    "            This is good example because it is highly unprobable that word zapart (it could be only surname)  would appera in \n",
    "            bills.\n",
    "            \n",
    "            \n",
    "            So the word might not even exist. That means that elastisearch can suggests to change non existing word to another\n",
    "            notexisting word. Which in my opinion is worth noting. (btw \"zawarta\" basing on frequency of usage is highly \n",
    "            probable fix to \"zawart\")\n",
    "            \n",
    "         e) wo\n",
    "            Levenshtein - do\n",
    "            elastisearch - BRAK_WYNIKÓW\n",
    "            We can say that the fix 'do' is at least probable. And from my perspective the fact that elastisearch has not\n",
    "            provided any possible fix is quite disappointing.\n",
    "            \n",
    "       Summing up: analyzing the results gave us better perspective of pros and cons of each methodology.\n",
    "             \n",
    "            \n",
    "    5) The validity of the obtained corrections.\n",
    "        Levenshtein - I would say around 14 is accurate\n",
    "        elastisearch - I would say it that 9 is accurate\n"
   ]
  },
  {
   "cell_type": "code",
   "execution_count": null,
   "metadata": {},
   "outputs": [],
   "source": []
  }
 ],
 "metadata": {
  "kernelspec": {
   "display_name": "Python 3",
   "language": "python",
   "name": "python3"
  },
  "language_info": {
   "codemirror_mode": {
    "name": "ipython",
    "version": 3
   },
   "file_extension": ".py",
   "mimetype": "text/x-python",
   "name": "python",
   "nbconvert_exporter": "python",
   "pygments_lexer": "ipython3",
   "version": "3.7.2"
  }
 },
 "nbformat": 4,
 "nbformat_minor": 4
}
